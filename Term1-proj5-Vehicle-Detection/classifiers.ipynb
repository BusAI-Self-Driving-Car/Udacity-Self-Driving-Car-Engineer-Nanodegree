{
 "cells": [
  {
   "cell_type": "code",
   "execution_count": 1,
   "metadata": {},
   "outputs": [
    {
     "data": {
      "text/html": [
       "<style>.container { width:100% !important; }</style>"
      ],
      "text/plain": [
       "<IPython.core.display.HTML object>"
      ]
     },
     "metadata": {},
     "output_type": "display_data"
    }
   ],
   "source": [
    "from IPython.core.display import display, HTML\n",
    "\n",
    "### Widen notebook to fit browser window\n",
    "display(HTML(\"<style>.container { width:100% !important; }</style>\"))"
   ]
  },
  {
   "cell_type": "code",
   "execution_count": 2,
   "metadata": {},
   "outputs": [
    {
     "data": {
      "application/javascript": [
       "// Press ctrl-M followed by r to \"run all cells\" in this notebook\n",
       "\n",
       "Jupyter.keyboard_manager.command_shortcuts.add_shortcut('r', {\n",
       "    help : 'run all cells',\n",
       "    help_index : 'zz',\n",
       "    handler : function (event) {\n",
       "        IPython.notebook.execute_all_cells();\n",
       "        return false;\n",
       "    }}\n",
       ");"
      ],
      "text/plain": [
       "<IPython.core.display.Javascript object>"
      ]
     },
     "metadata": {},
     "output_type": "display_data"
    }
   ],
   "source": [
    "%%javascript\n",
    "// Press ctrl-M followed by r to \"run all cells\" in this notebook\n",
    "\n",
    "Jupyter.keyboard_manager.command_shortcuts.add_shortcut('r', {\n",
    "    help : 'run all cells',\n",
    "    help_index : 'zz',\n",
    "    handler : function (event) {\n",
    "        IPython.notebook.execute_all_cells();\n",
    "        return false;\n",
    "    }}\n",
    ");"
   ]
  },
  {
   "cell_type": "code",
   "execution_count": 3,
   "metadata": {},
   "outputs": [
    {
     "data": {
      "text/html": [
       "<style>.container { width:100% !important; }</style>"
      ],
      "text/plain": [
       "<IPython.core.display.HTML object>"
      ]
     },
     "metadata": {},
     "output_type": "display_data"
    },
    {
     "data": {
      "text/html": [
       "<style>.container { width:100% !important; }</style>"
      ],
      "text/plain": [
       "<IPython.core.display.HTML object>"
      ]
     },
     "metadata": {},
     "output_type": "display_data"
    }
   ],
   "source": [
    "import numpy as np\n",
    "\n",
    "from sklearn.svm import LinearSVC\n",
    "from sklearn.preprocessing import StandardScaler\n",
    "from sklearn.model_selection import train_test_split\n",
    "\n",
    "from file_utils import get_img_filenames\n",
    "from configuration import dict_config_params\n",
    "from feature_extracters import extract_features"
   ]
  },
  {
   "cell_type": "code",
   "execution_count": 4,
   "metadata": {},
   "outputs": [],
   "source": [
    "def fit_svm(X, labels, verbose=True):\n",
    "    \n",
    "    # Fit a per-column scaler\n",
    "    X_scaler = StandardScaler().fit(X)\n",
    "    \n",
    "    # Apply the scaler to X\n",
    "    scaled_X = X_scaler.transform(X)\n",
    "    \n",
    "    # Split up data into randomized training and test sets\n",
    "    rand_state = np.random.randint(0, 100)\n",
    "    X_train, X_test, y_train, y_test = train_test_split(scaled_X, labels, \n",
    "                                                        test_size=0.2, \n",
    "                                                        random_state=rand_state) \n",
    "    \n",
    "    # Use a linear SVC \n",
    "    svc = LinearSVC()\n",
    "    \n",
    "    # Check the training time for the SVC\n",
    "    t=time.time()\n",
    "    svc.fit(X_train, y_train)\n",
    "    t2 = time.time()\n",
    "\n",
    "    if verbose:\n",
    "        print(\"\\n\",round(t2-t, 2), 'Seconds to train SVC...')\n",
    "        print('\\nTest Accuracy of SVC = ', round(svc.score(X_test, y_test), 4))\n",
    "        \n",
    "        t=time.time()    \n",
    "        n_predict = 10\n",
    "        print('\\nMy SVC predicts:     ', svc.predict(X_test[0:n_predict]))\n",
    "        print('For these',n_predict, 'labels: ', y_test[0:n_predict])\n",
    "        t2 = time.time()\n",
    "        print(\"\\n\",round(t2-t, 5), 'Seconds to predict', n_predict,'labels with SVC')\n",
    "    \n",
    "    return svc, X_scaler"
   ]
  },
  {
   "cell_type": "code",
   "execution_count": 5,
   "metadata": {},
   "outputs": [],
   "source": [
    "def get_training_data():\n",
    "    \n",
    "    img_filenames_cars, img_filenames_notcars = get_img_filenames()\n",
    "    \n",
    "    truncate_data_at = dict_config_params['truncate_training_data_after']\n",
    "    \n",
    "    hog_feat = dict_config_params['use_hog_feat']\n",
    "    spatial_feat = dict_config_params['use_spatial_feat']\n",
    "    hist_feat = dict_config_params['use_hist_feat']\n",
    "    \n",
    "    ## Feature vectors CAR\n",
    "    feature_vectors_car = []\n",
    "    count = 1\n",
    "    for img_filename in img_filenames_cars:    \n",
    "        image = mpimg.imread(img_filename)\n",
    "\n",
    "        img_features = extract_features(image, verbose=False, \n",
    "                                    hog_feat=hog_feat, spatial_feat=spatial_feat, hist_feat=hist_feat)\n",
    "        feature_vectors_car.append(img_features)\n",
    "        \n",
    "        if truncate_data_at > 0 and count > truncate_data_at:\n",
    "            break\n",
    "        count += 1\n",
    "\n",
    "    ## Feature vectors NOT-CAR\n",
    "    feature_vectors_notcar = []\n",
    "    count = 1\n",
    "    for img_filename in img_filenames_notcars:    \n",
    "        image = mpimg.imread(img_filename)\n",
    "\n",
    "        img_features = extract_features(image, verbose=False, \n",
    "                                    hog_feat=hog_feat, spatial_feat=spatial_feat, hist_feat=hist_feat)\n",
    "        feature_vectors_notcar.append(img_features)\n",
    "        \n",
    "        if truncate_data_at > 0 and count > truncate_data_at:\n",
    "            break\n",
    "        count += 1\n",
    "\n",
    "\n",
    "    # Create an array stack of feature vectors\n",
    "    X = np.vstack((feature_vectors_car, feature_vectors_notcar)).astype(np.float64)                        \n",
    "    print(\"len(X): {}\".format(len(X)))\n",
    "\n",
    "    # Define the labels vector\n",
    "    labels = np.hstack((np.ones(len(feature_vectors_car)), \n",
    "                        np.zeros(len(feature_vectors_notcar))))\n",
    "    \n",
    "    return X, labels"
   ]
  }
 ],
 "metadata": {
  "kernelspec": {
   "display_name": "Python 3",
   "language": "python",
   "name": "python3"
  },
  "language_info": {
   "codemirror_mode": {
    "name": "ipython",
    "version": 3
   },
   "file_extension": ".py",
   "mimetype": "text/x-python",
   "name": "python",
   "nbconvert_exporter": "python",
   "pygments_lexer": "ipython3",
   "version": "3.5.2"
  },
  "widgets": {
   "state": {},
   "version": "1.1.2"
  }
 },
 "nbformat": 4,
 "nbformat_minor": 2
}
