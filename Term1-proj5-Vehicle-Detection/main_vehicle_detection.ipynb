{
 "cells": [
  {
   "cell_type": "code",
   "execution_count": 1,
   "metadata": {},
   "outputs": [
    {
     "data": {
      "text/html": [
       "<style>.container { width:100% !important; }</style>"
      ],
      "text/plain": [
       "<IPython.core.display.HTML object>"
      ]
     },
     "metadata": {},
     "output_type": "display_data"
    }
   ],
   "source": [
    "from IPython.core.display import display, HTML\n",
    "\n",
    "### Widen notebook to fit browser window\n",
    "display(HTML(\"<style>.container { width:100% !important; }</style>\"))"
   ]
  },
  {
   "cell_type": "code",
   "execution_count": 2,
   "metadata": {},
   "outputs": [
    {
     "data": {
      "text/html": [
       "<style>.container { width:100% !important; }</style>"
      ],
      "text/plain": [
       "<IPython.core.display.HTML object>"
      ]
     },
     "metadata": {},
     "output_type": "display_data"
    },
    {
     "data": {
      "text/html": [
       "<style>.container { width:100% !important; }</style>"
      ],
      "text/plain": [
       "<IPython.core.display.HTML object>"
      ]
     },
     "metadata": {},
     "output_type": "display_data"
    },
    {
     "data": {
      "text/html": [
       "<style>.container { width:100% !important; }</style>"
      ],
      "text/plain": [
       "<IPython.core.display.HTML object>"
      ]
     },
     "metadata": {},
     "output_type": "display_data"
    },
    {
     "data": {
      "application/javascript": [
       "// Press ctrl-M followed by r to \"run all cells\" in this notebook\n",
       "\n",
       "Jupyter.keyboard_manager.command_shortcuts.add_shortcut('r', {\n",
       "    help : 'run all cells',\n",
       "    help_index : 'zz',\n",
       "    handler : function (event) {\n",
       "        IPython.notebook.execute_all_cells();\n",
       "        return false;\n",
       "    }}\n",
       ");"
      ],
      "text/plain": [
       "<IPython.core.display.Javascript object>"
      ]
     },
     "metadata": {},
     "output_type": "display_data"
    }
   ],
   "source": [
    "import os, glob\n",
    "import pickle\n",
    "import matplotlib.image as mpimg\n",
    "import matplotlib.pyplot as plt\n",
    "import numpy as np\n",
    "\n",
    "from configuration import dict_config_params\n",
    "from sliding_windows import search_windows, slide_window, draw_boxes, find_cars\n",
    "from sliding_windows import add_heat, apply_heat_threshold, draw_labeled_bboxes, get_heat_based_bboxes\n",
    "from classifiers import get_training_data, fit_svm"
   ]
  },
  {
   "cell_type": "code",
   "execution_count": 3,
   "metadata": {
    "scrolled": true
   },
   "outputs": [],
   "source": [
    "def main_test_images():    \n",
    "    \n",
    "    # Test images    \n",
    "    count_fig = 1\n",
    "    filenames_img = glob.glob('./test_images/test*.jpg')\n",
    "    for filename_img in filenames_img:\n",
    "        \n",
    "        # Read image\n",
    "        image = mpimg.imread(filename_img)\n",
    "\n",
    "        # Normalize image intensity, since we read in a jpg\n",
    "        image = image.astype(np.float32)/255\n",
    "        \n",
    "        y_start_stop = [np.int(image.shape[0]/2), image.shape[0] - 60]        \n",
    "        hot_windows = []\n",
    "        if True:\n",
    "            # Search for cars directly with HOG subsampling\n",
    "            for scale in np.arange(1, 2, 0.5):\n",
    "                window_img, windows = find_cars(image, y_start_stop, svc, X_scaler, scale=scale)\n",
    "                hot_windows += windows\n",
    "        else:            \n",
    "            # No HOG subsampling (HOG features extracted on every search window separately)\n",
    "            windows = slide_window(image, x_start_stop=[None, None], y_start_stop=y_start_stop, \n",
    "                            xy_window=(96, 96), xy_overlap=(0.5, 0.5))\n",
    "\n",
    "            hot_windows = search_windows(image, windows, svc, X_scaler)                       \n",
    "            window_img = draw_boxes(draw_image, hot_windows, color=(0, 0, 255), thick=6)                \n",
    "\n",
    "        draw_img, heatmap = get_heat_based_bboxes(image, hot_windows)\n",
    "            \n",
    "        fig = plt.figure(count_fig)\n",
    "        plt.subplot(121)\n",
    "        plt.imshow(draw_img)\n",
    "        plt.title('Car Positions')\n",
    "        plt.subplot(122)\n",
    "        plt.imshow(heatmap, cmap='hot')\n",
    "        plt.title('Heat Map')\n",
    "        fig.tight_layout()\n",
    "        count_fig += 1\n",
    "    \n",
    "    plt.show()"
   ]
  },
  {
   "cell_type": "code",
   "execution_count": 4,
   "metadata": {},
   "outputs": [],
   "source": [
    "from moviepy.editor import VideoFileClip\n",
    "from IPython.display import HTML\n",
    "\n",
    "def process_video_frame(frame):\n",
    "    # NOTE: output should be a color image (3 channel) for processing video below    \n",
    "    global dict_config_params\n",
    "    global num_frames_processed  \n",
    "    global svc, X_scaler    \n",
    "        \n",
    "    # Normalize image intensity (?)\n",
    "    #frame = frame.astype(np.float32)/255\n",
    "    \n",
    "    y_start_stop = [np.int(frame.shape[0]/2), frame.shape[0] - 60]    \n",
    "    hot_windows = []    \n",
    "    \n",
    "    # Search for cars directly with HOG subsampling\n",
    "    for scale in np.arange(1, 2, 0.5):\n",
    "        window_img, windows = find_cars(frame, y_start_stop, svc, X_scaler, scale=scale)\n",
    "        hot_windows += windows\n",
    "        \n",
    "    draw_frame, heatmap = get_heat_based_bboxes(frame, hot_windows)\n",
    "    return draw_frame\n",
    "\n",
    "\n",
    "def main_video():\n",
    "    clip1 = VideoFileClip(\"./videos/test_video.mp4\")\n",
    "    #clip1 = VideoFileClip(\"./videos/project_video.mp4\")\n",
    "    \n",
    "    clip = clip1.fl_image(process_video_frame)\n",
    "    clip.write_videofile(\"out_video.mp4\", audio=False)\n",
    "    "
   ]
  },
  {
   "cell_type": "code",
   "execution_count": 5,
   "metadata": {},
   "outputs": [
    {
     "name": "stdout",
     "output_type": "stream",
     "text": [
      "\n",
      "Using already available cached classifier.\n",
      "\n",
      "Overwriting cached classifier.\n",
      "[MoviePy] >>>> Building video out_video.mp4\n",
      "[MoviePy] Writing video out_video.mp4\n"
     ]
    },
    {
     "name": "stderr",
     "output_type": "stream",
     "text": [
      " 97%|█████████▋| 38/39 [00:38<00:01,  1.01s/it]\n"
     ]
    },
    {
     "name": "stdout",
     "output_type": "stream",
     "text": [
      "[MoviePy] Done.\n",
      "[MoviePy] >>>> Video ready: out_video.mp4 \n",
      "\n"
     ]
    }
   ],
   "source": [
    "# Globals\n",
    "svc, X_scaler = None, None\n",
    "\n",
    "if __name__ == '__main__':\n",
    "    \n",
    "    # Pickle dump classifier\n",
    "    filename_classifier = \"./classifiers_pickle.p\"\n",
    "    if (dict_config_params['use_cached_classifier'] is True and\n",
    "            os.path.exists(filename_classifier)):\n",
    "                print(\"\\nUsing already available cached classifier.\")\n",
    "                svc, X_scaler = pickle.load( open(filename_classifier, \"rb\" ) )\n",
    "    else:\n",
    "        X, labels = get_training_data()    \n",
    "        svc, X_scaler = fit_svm(X, labels, verbose=True)\n",
    "\n",
    "    if dict_config_params['overwrite_cached_classifier']:\n",
    "        print(\"\\nOverwriting cached classifier.\")\n",
    "        pickle.dump([svc, X_scaler], open( filename_classifier, \"wb\" ) )\n",
    "\n",
    "    main_test_images()\n",
    "    #main_video()"
   ]
  }
 ],
 "metadata": {
  "kernelspec": {
   "display_name": "Python 3",
   "language": "python",
   "name": "python3"
  },
  "language_info": {
   "codemirror_mode": {
    "name": "ipython",
    "version": 3
   },
   "file_extension": ".py",
   "mimetype": "text/x-python",
   "name": "python",
   "nbconvert_exporter": "python",
   "pygments_lexer": "ipython3",
   "version": "3.5.2"
  },
  "widgets": {
   "state": {},
   "version": "1.1.2"
  }
 },
 "nbformat": 4,
 "nbformat_minor": 2
}
