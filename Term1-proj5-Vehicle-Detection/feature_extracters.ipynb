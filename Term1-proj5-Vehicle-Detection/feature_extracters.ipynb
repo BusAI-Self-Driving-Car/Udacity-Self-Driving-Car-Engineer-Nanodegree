{
 "cells": [
  {
   "cell_type": "code",
   "execution_count": 15,
   "metadata": {},
   "outputs": [
    {
     "data": {
      "text/html": [
       "<style>.container { width:100% !important; }</style>"
      ],
      "text/plain": [
       "<IPython.core.display.HTML object>"
      ]
     },
     "metadata": {},
     "output_type": "display_data"
    }
   ],
   "source": [
    "from IPython.core.display import display, HTML\n",
    "\n",
    "### Widen notebook to fit browser window\n",
    "display(HTML(\"<style>.container { width:100% !important; }</style>\"))"
   ]
  },
  {
   "cell_type": "code",
   "execution_count": 16,
   "metadata": {},
   "outputs": [],
   "source": [
    "from os import listdir\n",
    "from os.path import isfile, join\n",
    "\n",
    "import matplotlib.image as mpimg\n",
    "import matplotlib.pyplot as plt\n",
    "import numpy as np\n",
    "import cv2\n",
    "import glob\n",
    "from skimage.feature import hog\n",
    "\n",
    "from file_utils import get_img_filenames\n",
    "from configuration import dict_config_params"
   ]
  },
  {
   "cell_type": "code",
   "execution_count": 17,
   "metadata": {},
   "outputs": [],
   "source": [
    "def transform_colorspace(image, cspace):\n",
    "    # apply color conversion if other than 'RGB'\n",
    "    # cspace = dict_config_params['color_space']\n",
    "    if cspace != 'RGB':\n",
    "        if cspace == 'HSV':\n",
    "            feature_image = cv2.cvtColor(image, cv2.COLOR_RGB2HSV)\n",
    "        elif cspace == 'LUV':\n",
    "            feature_image = cv2.cvtColor(image, cv2.COLOR_RGB2LUV)\n",
    "        elif cspace == 'HLS':\n",
    "            feature_image = cv2.cvtColor(image, cv2.COLOR_RGB2HLS)\n",
    "        elif cspace == 'YUV':\n",
    "            feature_image = cv2.cvtColor(image, cv2.COLOR_RGB2YUV)\n",
    "        elif cspace == 'YCrCb':\n",
    "            feature_image = cv2.cvtColor(image, cv2.COLOR_RGB2YCrCb)\n",
    "    else: \n",
    "        feature_image = np.copy(image)  \n",
    "        \n",
    "    return feature_image"
   ]
  },
  {
   "cell_type": "code",
   "execution_count": 18,
   "metadata": {},
   "outputs": [],
   "source": [
    "### Gradient features ###\n",
    "\n",
    "# Define a function to return HOG features and visualization\n",
    "def get_hog_features(img, orient, pix_per_cell, cell_per_block, vis=False, feature_vec=True):\n",
    "    if vis == True:\n",
    "        features, hog_image = hog(img, orientations=orient, pixels_per_cell=(pix_per_cell, pix_per_cell),\n",
    "                                  cells_per_block=(cell_per_block, cell_per_block), transform_sqrt=False, \n",
    "                                  visualise=True, feature_vector=False)        \n",
    "    else:      \n",
    "        features = hog(img, orientations=orient, pixels_per_cell=(pix_per_cell, pix_per_cell),\n",
    "                       cells_per_block=(cell_per_block, cell_per_block), transform_sqrt=False, \n",
    "                       visualise=False, feature_vector=feature_vec)\n",
    "        hog_image = None\n",
    "        \n",
    "    #features = features.ravel()\n",
    "    return features, hog_image\n",
    "    \n",
    "    \n",
    "def extract_hog_features(image, hog_feat=True, visualize=False):\n",
    "    \n",
    "    if hog_feat is not True:\n",
    "        return [], None\n",
    "    \n",
    "    if dict_config_params['use_gray_img'] is True:\n",
    "        feature_image = cv2.cvtColor(image, cv2.COLOR_RGB2GRAY)\n",
    "    else:\n",
    "        feature_image = transform_colorspace(image, dict_config_params['hog_cspace'])\n",
    "    \n",
    "    # Parameters\n",
    "    hog_channel = dict_config_params['hog_channel']\n",
    "    n_orientations = dict_config_params['hog_n_orientations']\n",
    "    pixels_per_cell = dict_config_params['hog_pixels_per_cell']\n",
    "    cells_per_block = dict_config_params['hog_cells_per_block']\n",
    "    \n",
    "    hog_features = []\n",
    "    single_channel_img = len(feature_image.shape)==2\n",
    "    \n",
    "    if hog_feat == True:     \n",
    "        if single_channel_img is True:\n",
    "            hog_features, hog_image = get_hog_features(feature_image, \n",
    "                                                       n_orientations, \n",
    "                                                       pixels_per_cell, cells_per_block, \n",
    "                                                       vis=visualize, feature_vec=False)\n",
    "        \n",
    "        elif hog_channel == 'ALL':            \n",
    "            for channel in range(feature_image.shape[2]):\n",
    "                features, hog_image = get_hog_features(feature_image[:,:,channel], \n",
    "                                                       n_orientations, \n",
    "                                                       pixels_per_cell, cells_per_block, \n",
    "                                                       vis=visualize, feature_vec=False)\n",
    "                hog_features.append(features)                \n",
    "        else:\n",
    "            hog_features, hog_image = get_hog_features(feature_image[:,:,hog_channel], \n",
    "                                                       n_orientations, \n",
    "                                                       pixels_per_cell, cells_per_block, \n",
    "                                                       vis=visualize, feature_vec=False)\n",
    "        \n",
    "    return hog_features, hog_image"
   ]
  },
  {
   "cell_type": "code",
   "execution_count": 19,
   "metadata": {},
   "outputs": [],
   "source": [
    "### Color features ###\n",
    "\n",
    "# Define a function to compute binned color features  \n",
    "def bin_spatial(img):\n",
    "        \n",
    "    size = dict_config_params['color_spatial_size']\n",
    "    \n",
    "    features = cv2.resize(img, size).ravel() \n",
    "    return features\n",
    "\n",
    "\n",
    "# Define a function to compute color histogram features  \n",
    "def color_hist(img):\n",
    "    nbins = dict_config_params['color_hist_bins']\n",
    "    bins_range = dict_config_params['color_hist_range']\n",
    "    \n",
    "    # Compute the histograms of the color channels separately\n",
    "    channel1_hist = np.histogram(img[:,:,0], bins=nbins, range=bins_range)\n",
    "    channel2_hist = np.histogram(img[:,:,1], bins=nbins, range=bins_range)\n",
    "    channel3_hist = np.histogram(img[:,:,2], bins=nbins, range=bins_range)\n",
    "    \n",
    "    # Concatenate the histograms into a single feature vector\n",
    "    hist_features = np.concatenate((channel1_hist[0], channel2_hist[0], channel3_hist[0]))\n",
    "    return hist_features\n",
    "\n",
    "\n",
    "def extract_color_features(image, spatial_feat=True, hist_feat=True):\n",
    "\n",
    "    color_features = []\n",
    "    \n",
    "    if spatial_feat is not True and hist_feat is not True:\n",
    "        return color_features\n",
    "    \n",
    "    feature_image = transform_colorspace(image, dict_config_params['color_cspace'])\n",
    "    \n",
    "    # Get spatial color features\n",
    "    if spatial_feat is True:\n",
    "        spatial_features = bin_spatial(feature_image)\n",
    "        color_features.append(spatial_features)\n",
    "    \n",
    "    # Get color histogram features\n",
    "    if hist_feat is True:\n",
    "        hist_features = color_hist(feature_image)\n",
    "        color_features.append(hist_features)\n",
    "    \n",
    "    # Concatenate spatial and histogram features\n",
    "    color_features = np.concatenate(color_features)\n",
    "        \n",
    "    # Return list of feature vectors\n",
    "    return color_features"
   ]
  },
  {
   "cell_type": "code",
   "execution_count": 20,
   "metadata": {},
   "outputs": [],
   "source": [
    "def extract_features(image, verbose=True, \n",
    "                     hog_feat=True, spatial_feat=True, hist_feat=True):   \n",
    "\n",
    "    features = []\n",
    "    \n",
    "    # --- Extract HOG features ---    \n",
    "    hog_features, hog_image = extract_hog_features(image, \n",
    "                                                   hog_feat=hog_feat, visualize=verbose)    \n",
    "    features.append(np.ravel(hog_features))    \n",
    "\n",
    "    # --- Extract Color features ---\n",
    "    color_features = extract_color_features(image, \n",
    "                                            spatial_feat=spatial_feat, hist_feat=hist_feat)    \n",
    "    features.append(color_features)\n",
    "    \n",
    "    if verbose is True:\n",
    "        print()\n",
    "        print(\"len(hog_features): {}\".format(len(hog_features)))\n",
    "        print(\"len(color_features): {}\".format(len(color_features)))\n",
    "        \n",
    "        if hog_image is not None:\n",
    "            # Plot \n",
    "            fig = plt.figure()\n",
    "            plt.subplot(121)\n",
    "            plt.imshow(image, cmap='gray')\n",
    "            plt.title('Example Car Image')\n",
    "            plt.subplot(122)\n",
    "            plt.imshow(hog_image, cmap='gray')\n",
    "            plt.title('HOG Visualization')\n",
    "    \n",
    "    return np.concatenate(features)"
   ]
  },
  {
   "cell_type": "code",
   "execution_count": 21,
   "metadata": {},
   "outputs": [
    {
     "name": "stdout",
     "output_type": "stream",
     "text": [
      "listdir(imgs_dir_cars): ['GTI_MiddleClose', 'KITTI_extracted', 'GTI_Right', 'GTI_Left', 'GTI_Far']\n",
      "listdir(imgs_dir_notcars): ['Extras', 'GTI']\n",
      "\n",
      "len(img_filenames_cars): 8792\n",
      "len(img_filenames_notcars): 8968\n",
      "\n",
      "len(hog_features): 1764\n",
      "len(color_features): 3168\n",
      "\n",
      "len(img_features): 4932\n"
     ]
    },
    {
     "name": "stderr",
     "output_type": "stream",
     "text": [
      "/home.net/rh17dur/miniconda3/envs/carnd-term1-gpu/lib/python3.5/site-packages/skimage/feature/_hog.py:119: skimage_deprecation: Default value of `block_norm`==`L1` is deprecated and will be changed to `L2-Hys` in v0.15\n",
      "  'be changed to `L2-Hys` in v0.15', skimage_deprecation)\n"
     ]
    },
    {
     "data": {
      "image/png": "[encoded data removed]",
      "text/plain": [
       "<matplotlib.figure.Figure at 0x7f10b743dbe0>"
      ]
     },
     "metadata": {},
     "output_type": "display_data"
    }
   ],
   "source": [
    "if __name__== \"__main__\":\n",
    "        \n",
    "    img_filenames_cars, img_filenames_notcars = get_img_filenames()\n",
    "    \n",
    "    # Take a random image\n",
    "    ind = np.random.randint(0, len(img_filenames_cars))\n",
    "    image = mpimg.imread(img_filenames_cars[ind])\n",
    "    \n",
    "    hog_feat = dict_config_params['use_hog_feat']\n",
    "    spatial_feat = dict_config_params['use_spatial_feat']\n",
    "    hist_feat = dict_config_params['use_hist_feat']\n",
    "        \n",
    "    img_features = extract_features(image, verbose=True, \n",
    "                                hog_feat=hog_feat, spatial_feat=spatial_feat, hist_feat=hist_feat)\n",
    "    \n",
    "    print()\n",
    "    print(\"len(img_features): {}\".format(len(img_features)))\n",
    "        \n",
    "    plt.show()"
   ]
  }
 ],
 "metadata": {
  "kernelspec": {
   "display_name": "Python 3",
   "language": "python",
   "name": "python3"
  },
  "language_info": {
   "codemirror_mode": {
    "name": "ipython",
    "version": 3
   },
   "file_extension": ".py",
   "mimetype": "text/x-python",
   "name": "python",
   "nbconvert_exporter": "python",
   "pygments_lexer": "ipython3",
   "version": "3.5.2"
  },
  "widgets": {
   "state": {},
   "version": "1.1.2"
  }
 },
 "nbformat": 4,
 "nbformat_minor": 2
}
