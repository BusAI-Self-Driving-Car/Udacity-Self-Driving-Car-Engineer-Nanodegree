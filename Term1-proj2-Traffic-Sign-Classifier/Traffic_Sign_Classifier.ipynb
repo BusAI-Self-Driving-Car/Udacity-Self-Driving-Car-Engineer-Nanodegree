{
 "cells": [
  {
   "cell_type": "markdown",
   "metadata": {},
   "source": [
    "# Self-Driving Car Engineer Nanodegree\n",
    "\n",
    "## Deep Learning\n",
    "\n",
    "## Project: Build a Traffic Sign Recognition Classifier\n",
    "\n",
    "In this notebook, a template is provided for you to implement your functionality in stages, which is required to successfully complete this project. If additional code is required that cannot be included in the notebook, be sure that the Python code is successfully imported and included in your submission if necessary. \n",
    "\n",
    "> **Note**: Once you have completed all of the code implementations, you need to finalize your work by exporting the iPython Notebook as an HTML document. Before exporting the notebook to html, all of the code cells need to have been run so that reviewers can see the final implementation and output. You can then export the notebook by using the menu above and navigating to  \\n\",\n",
    "    \"**File -> Download as -> HTML (.html)**. Include the finished document along with this notebook as your submission. \n",
    "\n",
    "In addition to implementing code, there is a writeup to complete. The writeup should be completed in a separate file, which can be either a markdown file or a pdf document. There is a [write up template](https://github.com/udacity/CarND-Traffic-Sign-Classifier-Project/blob/master/writeup_template.md) that can be used to guide the writing process. Completing the code template and writeup template will cover all of the [rubric points](https://review.udacity.com/#!/rubrics/481/view) for this project.\n",
    "\n",
    "The [rubric](https://review.udacity.com/#!/rubrics/481/view) contains \"Stand Out Suggestions\" for enhancing the project beyond the minimum requirements. The stand out suggestions are optional. If you decide to pursue the \"stand out suggestions\", you can include the code in this Ipython notebook and also discuss the results in the writeup file.\n",
    "\n",
    "\n",
    ">**Note:** Code and Markdown cells can be executed using the **Shift + Enter** keyboard shortcut. In addition, Markdown cells can be edited by typically double-clicking the cell to enter edit mode."
   ]
  },
  {
   "cell_type": "markdown",
   "metadata": {},
   "source": [
    "---\n",
    "## Step 0: Load The Data"
   ]
  },
  {
   "cell_type": "code",
   "execution_count": 224,
   "metadata": {},
   "outputs": [
    {
     "name": "stdout",
     "output_type": "stream",
     "text": [
      "X_train shape: (34799, 32, 32, 3)\n",
      "y_train shape: (34799,)\n",
      "X_valid shape: (4410, 32, 32, 3)\n",
      "y_valid shape: (4410,)\n",
      "X_test shape: (12630, 32, 32, 3)\n",
      "y_test shape: (12630,)\n"
     ]
    }
   ],
   "source": [
    "# Load pickled data\n",
    "import pickle\n",
    "\n",
    "# TODO: Fill this in based on where you saved the training and testing data\n",
    "\n",
    "training_file = \"../../data/traffic-signs-data/train.p\"\n",
    "validation_file=\"../../data/traffic-signs-data/valid.p\"\n",
    "testing_file = \"../../data/traffic-signs-data/test.p\"\n",
    "\n",
    "with open(training_file, mode='rb') as f:\n",
    "    train = pickle.load(f)\n",
    "with open(validation_file, mode='rb') as f:\n",
    "    valid = pickle.load(f)\n",
    "with open(testing_file, mode='rb') as f:\n",
    "    test = pickle.load(f)\n",
    "    \n",
    "X_train, y_train = train['features'], train['labels']\n",
    "X_valid, y_valid = valid['features'], valid['labels']\n",
    "X_test, y_test = test['features'], test['labels']\n",
    "\n",
    "print(\"X_train shape:\", X_train.shape)\n",
    "print(\"y_train shape:\", y_train.shape)\n",
    "print(\"X_valid shape:\", X_valid.shape)\n",
    "print(\"y_valid shape:\", y_valid.shape)\n",
    "print(\"X_test shape:\", X_test.shape)\n",
    "print(\"y_test shape:\", y_test.shape)"
   ]
  },
  {
   "cell_type": "markdown",
   "metadata": {},
   "source": [
    "---\n",
    "\n",
    "## Step 1: Dataset Summary & Exploration\n",
    "\n",
    "The pickled data is a dictionary with 4 key/value pairs:\n",
    "\n",
    "- `'features'` is a 4D array containing raw pixel data of the traffic sign images, (num examples, width, height, channels).\n",
    "- `'labels'` is a 1D array containing the label/class id of the traffic sign. The file `signnames.csv` contains id -> name mappings for each id.\n",
    "- `'sizes'` is a list containing tuples, (width, height) representing the original width and height the image.\n",
    "- `'coords'` is a list containing tuples, (x1, y1, x2, y2) representing coordinates of a bounding box around the sign in the image. **THESE COORDINATES ASSUME THE ORIGINAL IMAGE. THE PICKLED DATA CONTAINS RESIZED VERSIONS (32 by 32) OF THESE IMAGES**\n",
    "\n",
    "Complete the basic data summary below. Use python, numpy and/or pandas methods to calculate the data summary rather than hard coding the results. For example, the [pandas shape method](http://pandas.pydata.org/pandas-docs/stable/generated/pandas.DataFrame.shape.html) might be useful for calculating some of the summary results. "
   ]
  },
  {
   "cell_type": "markdown",
   "metadata": {},
   "source": [
    "### Provide a Basic Summary of the Data Set Using Python, Numpy and/or Pandas"
   ]
  },
  {
   "cell_type": "code",
   "execution_count": 225,
   "metadata": {},
   "outputs": [
    {
     "name": "stdout",
     "output_type": "stream",
     "text": [
      "Number of training examples = 34799\n",
      "Number of testing examples = 12630\n",
      "Image data shape = (32, 32, 3)\n",
      "Number of classes = 43\n"
     ]
    }
   ],
   "source": [
    "import numpy as np\n",
    "\n",
    "### Replace each question mark with the appropriate value. \n",
    "### Use python, pandas or numpy methods rather than hard coding the results\n",
    "\n",
    "# TODO: Number of training examples\n",
    "n_train = X_train.shape[0]\n",
    "\n",
    "# TODO: Number of validation examples\n",
    "n_validation = X_valid.shape[0]\n",
    "\n",
    "# TODO: Number of testing examples.\n",
    "n_test = X_test.shape[0]\n",
    "\n",
    "# TODO: What's the shape of an traffic sign image?\n",
    "image_shape = X_train[0].shape\n",
    "\n",
    "# TODO: How many unique classes/labels there are in the dataset.\n",
    "n_classes = np.unique(y_train).shape[0]\n",
    "\n",
    "print(\"Number of training examples =\", n_train)\n",
    "print(\"Number of testing examples =\", n_test)\n",
    "print(\"Image data shape =\", image_shape)\n",
    "print(\"Number of classes =\", n_classes)"
   ]
  },
  {
   "cell_type": "markdown",
   "metadata": {},
   "source": [
    "### Include an exploratory visualization of the dataset"
   ]
  },
  {
   "cell_type": "markdown",
   "metadata": {},
   "source": [
    "Visualize the German Traffic Signs Dataset using the pickled file(s). This is open ended, suggestions include: plotting traffic sign images, plotting the count of each sign, etc. \n",
    "\n",
    "The [Matplotlib](http://matplotlib.org/) [examples](http://matplotlib.org/examples/index.html) and [gallery](http://matplotlib.org/gallery.html) pages are a great resource for doing visualizations in Python.\n",
    "\n",
    "**NOTE:** It's recommended you start with something simple first. If you wish to do more, come back to it after you've completed the rest of the sections. It can be interesting to look at the distribution of classes in the training, validation and test set. Is the distribution the same? Are there more examples of some classes than others?"
   ]
  },
  {
   "cell_type": "code",
   "execution_count": 226,
   "metadata": {},
   "outputs": [
    {
     "name": "stdout",
     "output_type": "stream",
     "text": [
      "4\n"
     ]
    },
    {
     "data": {
      "image/png": "[encoded data removed]",
      "text/plain": [
       "<matplotlib.figure.Figure at 0x7f9123926a58>"
      ]
     },
     "metadata": {},
     "output_type": "display_data"
    }
   ],
   "source": [
    "### Data exploration visualization code goes here.\n",
    "### Feel free to use as many code cells as needed.\n",
    "import random\n",
    "import matplotlib.pyplot as plt\n",
    "# Visualizations will be shown in the notebook.\n",
    "%matplotlib inline\n",
    "\n",
    "# Visualizations will be shown in the notebook.\n",
    "get_ipython().run_line_magic('matplotlib', 'inline')\n",
    "\n",
    "index = random.randint(0, len(X_train))\n",
    "image = X_train[index].squeeze()\n",
    "\n",
    "plt.figure(figsize=(1,1))\n",
    "plt.imshow(image, cmap=\"gray\")\n",
    "print(y_train[index])"
   ]
  },
  {
   "cell_type": "markdown",
   "metadata": {},
   "source": [
    "----\n",
    "\n",
    "## Step 2: Design and Test a Model Architecture\n",
    "\n",
    "Design and implement a deep learning model that learns to recognize traffic signs. Train and test your model on the [German Traffic Sign Dataset](http://benchmark.ini.rub.de/?section=gtsrb&subsection=dataset).\n",
    "\n",
    "The LeNet-5 implementation shown in the [classroom](https://classroom.udacity.com/nanodegrees/nd013/parts/fbf77062-5703-404e-b60c-95b78b2f3f9e/modules/6df7ae49-c61c-4bb2-a23e-6527e69209ec/lessons/601ae704-1035-4287-8b11-e2c2716217ad/concepts/d4aca031-508f-4e0b-b493-e7b706120f81) at the end of the CNN lesson is a solid starting point. You'll have to change the number of classes and possibly the preprocessing, but aside from that it's plug and play! \n",
    "\n",
    "With the LeNet-5 solution from the lecture, you should expect a validation set accuracy of about 0.89. To meet specifications, the validation set accuracy will need to be at least 0.93. It is possible to get an even higher accuracy, but 0.93 is the minimum for a successful project submission. \n",
    "\n",
    "There are various aspects to consider when thinking about this problem:\n",
    "\n",
    "- Neural network architecture (is the network over or underfitting?)\n",
    "- Play around preprocessing techniques (normalization, rgb to grayscale, etc)\n",
    "- Number of examples per label (some have more than others).\n",
    "- Generate fake data.\n",
    "\n",
    "Here is an example of a [published baseline model on this problem](http://yann.lecun.com/exdb/publis/pdf/sermanet-ijcnn-11.pdf). It's not required to be familiar with the approach used in the paper but, it's good practice to try to read papers like these."
   ]
  },
  {
   "cell_type": "markdown",
   "metadata": {},
   "source": [
    "### Pre-process the Data Set (normalization, grayscale, etc.)"
   ]
  },
  {
   "cell_type": "markdown",
   "metadata": {},
   "source": [
    "Minimally, the image data should be normalized so that the data has mean zero and equal variance. For image data, `(pixel - 128)/ 128` is a quick way to approximately normalize the data and can be used in this project. \n",
    "\n",
    "Other pre-processing steps are optional. You can try different techniques to see if it improves performance. \n",
    "\n",
    "Use the code cell (or multiple code cells, if necessary) to implement the first step of your project."
   ]
  },
  {
   "cell_type": "code",
   "execution_count": 227,
   "metadata": {
    "scrolled": true
   },
   "outputs": [
    {
     "name": "stdout",
     "output_type": "stream",
     "text": [
      "Training data:\n",
      "Image data shape(before grayscaling) = (34799, 32, 32, 3)\n",
      "Image data shape(after grayscaling) = (34799, 32, 32, 1)\n",
      "Image data shape(after normalization) = (34799, 32, 32, 1)\n",
      "\n",
      "Test data:\n",
      "Image data shape(before grayscaling) = (12630, 32, 32, 3)\n",
      "Image data shape(after grayscaling) = (12630, 32, 32, 1)\n",
      "Image data shape(after normalization) = (12630, 32, 32, 1)\n",
      "\n",
      "Validation data:\n",
      "Image data shape(before grayscaling) = (4410, 32, 32, 3)\n",
      "Image data shape(after grayscaling) = (4410, 32, 32, 1)\n",
      "Image data shape(after normalization) = (4410, 32, 32, 1)\n",
      "\n",
      "Image data shape(after preproc.) = (32, 32, 1)\n"
     ]
    },
    {
     "data": {
      "image/png": "[encoded data removed]",
      "text/plain": [
       "<matplotlib.figure.Figure at 0x7f90b9b3df28>"
      ]
     },
     "metadata": {},
     "output_type": "display_data"
    },
    {
     "data": {
      "image/png": "[encoded data removed]",
      "text/plain": [
       "<matplotlib.figure.Figure at 0x7f911f0de898>"
      ]
     },
     "metadata": {},
     "output_type": "display_data"
    }
   ],
   "source": [
    "### Preprocess the data here. It is required to normalize the data. Other preprocessing steps could include \n",
    "### converting to grayscale, etc.\n",
    "### Feel free to use as many code cells as needed.\n",
    "import cv2\n",
    "from sklearn.utils import shuffle\n",
    "\n",
    "def visualize_images(X, y, color_map=None):\n",
    "    random.seed(8952)\n",
    "    \n",
    "    # show image of 10 random data points\n",
    "    fig, axs = plt.subplots(2,5, figsize=(15, 6))\n",
    "    fig.subplots_adjust(hspace = .2, wspace=.001)\n",
    "    axs = axs.ravel()\n",
    "    for i in range(10):\n",
    "        index = random.randint(0, len(X))\n",
    "        \n",
    "        if color_map=='gray':\n",
    "            image = X[index].squeeze()\n",
    "        else:\n",
    "            image = X[index]\n",
    "                \n",
    "        axs[i].axis('off')\n",
    "        axs[i].imshow(image, color_map)\n",
    "        axs[i].set_title(y[index])\n",
    "\n",
    "def grayscale(img):\n",
    "    \"\"\"Applies the Grayscale transform\n",
    "    This will return an image with only one color channel\n",
    "    but NOTE: to see the returned image as grayscale\n",
    "    (assuming your grayscaled image is called 'gray')\n",
    "    you should call plt.imshow(gray, cmap='gray')\"\"\"\n",
    "    return cv2.cvtColor(img, cv2.COLOR_RGB2GRAY)\n",
    "    # Or use BGR2GRAY if you read an image with cv2.imread()\n",
    "    # return cv2.cvtColor(img, cv2.COLOR_BGR2GRAY)\n",
    "\n",
    "def preprocess_images(X, do_rgb2gray=True):\n",
    "\n",
    "    if do_rgb2gray:\n",
    "        print(\"Image data shape(before grayscaling) =\", X.shape)        \n",
    "        X = np.expand_dims(np.array([grayscale(img) for img in X]), 4)\n",
    "        \n",
    "    # Equalize image intensity histogram (improve image contrast)\n",
    "    X = np.array([np.expand_dims(cv2.equalizeHist(np.uint8(img)), 2) for img in X])\n",
    "        \n",
    "    print(\"Image data shape(after grayscaling) =\", X.shape)\n",
    "   \n",
    "    X = np.float32(X)\n",
    "\n",
    "    # standardize features\n",
    "    #X -= 128.\n",
    "    X -= np.mean(X, axis=0)\n",
    "\n",
    "    #X /= 128.\n",
    "    X /= (np.std(X, axis=0) + np.finfo('float32').eps)\n",
    "    print(\"Image data shape(after normalization) =\", X.shape)\n",
    "\n",
    "    return X\n",
    "\n",
    "print(\"Training data:\")\n",
    "visualize_images(X_train, y_train)\n",
    "X_train = preprocess_images(X_train, do_rgb2gray=True)\n",
    "visualize_images(X_train, y_train, color_map='gray')\n",
    "print(\"\")\n",
    "\n",
    "print(\"Test data:\")\n",
    "X_test = preprocess_images(X_test, do_rgb2gray=True)\n",
    "print(\"\")\n",
    "\n",
    "print(\"Validation data:\")\n",
    "X_valid = preprocess_images(X_valid, do_rgb2gray=True)\n",
    "print(\"\")\n",
    "\n",
    "X_train, y_train = shuffle(X_train, y_train)\n",
    "X_test, y_test = shuffle(X_test, y_test)\n",
    "X_valid, y_valid = shuffle(X_valid, y_valid)\n",
    "\n",
    "image_shape = X_train[0].shape\n",
    "print(\"Image data shape(after preproc.) =\", image_shape)"
   ]
  },
  {
   "cell_type": "markdown",
   "metadata": {},
   "source": [
    "Go to <a href=#bookmark>my bookmark</a>"
   ]
  },
  {
   "cell_type": "markdown",
   "metadata": {},
   "source": [
    "### Model Architecture"
   ]
  },
  {
   "cell_type": "code",
   "execution_count": 228,
   "metadata": {},
   "outputs": [],
   "source": [
    "### Define your architecture here.\n",
    "### Feel free to use as many code cells as needed.\n",
    "from tensorflow.contrib.layers import flatten\n",
    "\n",
    "def conv2d(x, W, b, strides=1):\n",
    "    x = tf.nn.conv2d(x, W, strides=[1, strides, strides, 1], padding='VALID')\n",
    "    x = tf.nn.bias_add(x, b)\n",
    "    return x\n",
    "\n",
    "def activation_relu(x):\n",
    "    return tf.nn.relu(x)\n",
    "\n",
    "def activation_sigmoid(x):\n",
    "    return tf.nn.sigmoid(x)\n",
    "\n",
    "def maxpool2d(x, k=2):\n",
    "    return tf.nn.max_pool(x, ksize=[1, k, k, 1], strides=[1, k, k, 1], padding='VALID')\n",
    "\n",
    "def full_connection(x, W, b):\n",
    "    return tf.matmul(x, W) + b\n",
    "\n",
    "def LeNet(x):    \n",
    "    # Arguments used for tf.truncated_normal, randomly defines variables for the weights and biases for each layer\n",
    "    mu = 0\n",
    "    sigma = 0.1\n",
    "\n",
    "    weights = {\n",
    "        'w_conv_1': tf.Variable(tf.truncated_normal((5, 5, image_shape[2], 6), mean=mu, stddev=sigma)),\n",
    "        'w_conv_2': tf.Variable(tf.truncated_normal((5, 5, 6, 16), mean=mu, stddev=sigma)),\n",
    "        'w_fc_1': tf.Variable(tf.truncated_normal((400, 120), mean=mu, stddev=sigma)),\n",
    "        'w_fc_2': tf.Variable(tf.truncated_normal((120, 84), mean=mu, stddev=sigma)),\n",
    "        'w_fc_3': tf.Variable(tf.truncated_normal((84, n_classes), mean=mu, stddev=sigma))\n",
    "    }\n",
    "\n",
    "    biases = {\n",
    "        'b_conv_1': tf.Variable(tf.zeros(6)),\n",
    "        'b_conv_2': tf.Variable(tf.zeros(16)),\n",
    "        'b_fc_1': tf.Variable(tf.zeros(120)),\n",
    "        'b_fc_2': tf.Variable(tf.zeros(84)),\n",
    "        'b_fc_3': tf.Variable(tf.zeros(n_classes))\n",
    "    }\n",
    "    \n",
    "    print(\"\\n\")\n",
    "\n",
    "    # TODO: Layer 1: Convolutional. Input = image_shape. Output = 28x28x6.\n",
    "    conv1 = conv2d(x, weights['w_conv_1'], biases['b_conv_1'], strides=1)    \n",
    "    print(\"conv1.shape = {}\".format(conv1.get_shape()))\n",
    "\n",
    "    # TODO: Activation.\n",
    "    act1 = activation_relu(conv1)    \n",
    "    #act1 = activation_sigmoid(conv1)\n",
    "    print(\"act1.shape = {}\".format(act1.get_shape()))\n",
    "    \n",
    "    d1 = tf.nn.dropout(act1, keep_prob=keep_prob)\n",
    "\n",
    "    # TODO: Pooling. Input = 28x28x6. Output = 14x14x6.\n",
    "    pool1 = maxpool2d(d1, k=2)\n",
    "    print(\"pool1.shape = {}\".format(pool1.get_shape()))\n",
    "\n",
    "    # TODO: Layer 2: Convolutional. Output = 10x10x16.\n",
    "    conv2 = conv2d(pool1, weights['w_conv_2'], biases['b_conv_2'], strides=1)\n",
    "    print(\"conv2.shape = {}\".format(conv2.get_shape()))\n",
    "    \n",
    "    # TODO: Activation.\n",
    "    act2 = activation_relu(conv2)\n",
    "    #act2 = activation_sigmoid(conv2)\n",
    "    print(\"act2.shape = {}\".format(act2.get_shape()))\n",
    "    \n",
    "    d2 = tf.nn.dropout(act2, keep_prob=keep_prob)\n",
    "\n",
    "    # TODO: Pooling. Input = 10x10x16. Output = 5x5x16.\n",
    "    pool2 = maxpool2d(d2, k=2)\n",
    "    print(\"pool2.shape = {}\".format(pool2.get_shape()))\n",
    "\n",
    "    # TODO: Flatten. Input = 5x5x16. Output = 400.\n",
    "    x_flat = flatten(pool2)\n",
    "    print(\"x_flat.shape = {}\".format(x_flat.get_shape()))\n",
    "\n",
    "    # TODO: Layer 3: Fully Connected. Input = 400. Output = 120.\n",
    "    fc1 = full_connection(x_flat, weights['w_fc_1'], biases['b_fc_1'])\n",
    "    print(\"fc1.shape = {}\".format(fc1.get_shape()))\n",
    "    \n",
    "    # TODO: Activation.\n",
    "    act3 = activation_relu(fc1)\n",
    "    #act3 = activation_sigmoid(fc1)\n",
    "    print(\"act3.shape = {}\".format(act3.get_shape()))\n",
    "    \n",
    "    d3 = tf.nn.dropout(act3, keep_prob=keep_prob)\n",
    "\n",
    "    # TODO: Layer 4: Fully Connected. Input = 120. Output = 84.\n",
    "    fc2 = full_connection(d3, weights['w_fc_2'], biases['b_fc_2'])\n",
    "    print(\"fc2.shape = {}\".format(fc2.get_shape()))\n",
    "    \n",
    "    # TODO: Activation.\n",
    "    act4 = activation_relu(fc2)\n",
    "    #act4 = activation_sigmoid(fc2)\n",
    "    print(\"act4.shape = {}\".format(act4.get_shape()))\n",
    "    \n",
    "    d4 = tf.nn.dropout(act4, keep_prob=keep_prob)\n",
    "\n",
    "    # TODO: Layer 5: Fully Connected. Input = 84. Output = n_classes.\n",
    "    logits = full_connection(d4, weights['w_fc_3'], biases['b_fc_3'])\n",
    "    print(\"logits.shape = {}\".format(logits.get_shape()))\n",
    "\n",
    "    print(\"\\n\")\n",
    "    \n",
    "    return logits"
   ]
  },
  {
   "cell_type": "markdown",
   "metadata": {},
   "source": [
    "Go to <a href=#bookmark>my bookmark</a>"
   ]
  },
  {
   "cell_type": "markdown",
   "metadata": {},
   "source": [
    "### Train, Validate and Test the Model"
   ]
  },
  {
   "cell_type": "markdown",
   "metadata": {},
   "source": [
    "A validation set can be used to assess how well the model is performing. A low accuracy on the training and validation\n",
    "sets imply underfitting. A high accuracy on the training set but low accuracy on the validation set implies overfitting."
   ]
  },
  {
   "cell_type": "code",
   "execution_count": 229,
   "metadata": {},
   "outputs": [
    {
     "name": "stdout",
     "output_type": "stream",
     "text": [
      "\n",
      "\n",
      "conv1.shape = (?, 28, 28, 6)\n",
      "act1.shape = (?, 28, 28, 6)\n",
      "pool1.shape = (?, 14, 14, 6)\n",
      "conv2.shape = (?, 10, 10, 16)\n",
      "act2.shape = (?, 10, 10, 16)\n",
      "pool2.shape = (?, 5, 5, 16)\n",
      "x_flat.shape = (?, 400)\n",
      "fc1.shape = (?, 120)\n",
      "act3.shape = (?, 120)\n",
      "fc2.shape = (?, 84)\n",
      "act4.shape = (?, 84)\n",
      "logits.shape = (?, 43)\n",
      "\n",
      "\n",
      "Training...\n",
      "\n",
      "EPOCH 1: Accuracy. Training: 0.781, Validation: 0.738\n",
      "EPOCH 2: Accuracy. Training: 0.897, Validation: 0.840\n",
      "EPOCH 3: Accuracy. Training: 0.935, Validation: 0.867\n",
      "EPOCH 4: Accuracy. Training: 0.951, Validation: 0.887\n",
      "EPOCH 5: Accuracy. Training: 0.964, Validation: 0.896\n",
      "EPOCH 6: Accuracy. Training: 0.974, Validation: 0.917\n",
      "EPOCH 7: Accuracy. Training: 0.976, Validation: 0.922\n",
      "EPOCH 8: Accuracy. Training: 0.982, Validation: 0.932\n",
      "EPOCH 9: Accuracy. Training: 0.985, Validation: 0.936\n",
      "EPOCH 10: Accuracy. Training: 0.989, Validation: 0.937\n",
      "EPOCH 11: Accuracy. Training: 0.988, Validation: 0.931\n",
      "EPOCH 12: Accuracy. Training: 0.990, Validation: 0.936\n",
      "EPOCH 13: Accuracy. Training: 0.992, Validation: 0.942\n",
      "EPOCH 14: Accuracy. Training: 0.992, Validation: 0.939\n",
      "EPOCH 15: Accuracy. Training: 0.994, Validation: 0.944\n",
      "EPOCH 16: Accuracy. Training: 0.995, Validation: 0.950\n",
      "EPOCH 17: Accuracy. Training: 0.995, Validation: 0.948\n",
      "EPOCH 18: Accuracy. Training: 0.997, Validation: 0.951\n",
      "EPOCH 19: Accuracy. Training: 0.997, Validation: 0.950\n",
      "EPOCH 20: Accuracy. Training: 0.996, Validation: 0.949\n",
      "EPOCH 21: Accuracy. Training: 0.997, Validation: 0.949\n",
      "EPOCH 22: Accuracy. Training: 0.998, Validation: 0.949\n",
      "EPOCH 23: Accuracy. Training: 0.998, Validation: 0.952\n",
      "EPOCH 24: Accuracy. Training: 0.999, Validation: 0.951\n",
      "EPOCH 25: Accuracy. Training: 0.998, Validation: 0.948\n",
      "Model saved\n",
      "Test Accuracy = 0.931\n"
     ]
    }
   ],
   "source": [
    "### Train your model here.\n",
    "### Calculate and report the accuracy on the training and validation set.\n",
    "### Once a final model architecture is selected, \n",
    "### the accuracy on the test set should be calculated and reported as well.\n",
    "### Feel free to use as many code cells as needed.\n",
    "# ## Setup TensorFlow\n",
    "# The `EPOCH` and `BATCH_SIZE` values affect the training speed and model accuracy.\n",
    "import tensorflow as tf\n",
    "\n",
    "EPOCHS = 25 #originally was: 10\n",
    "BATCH_SIZE = 128\n",
    "\n",
    "# Set up tensorflow variables\n",
    "x = tf.placeholder(tf.float32, (None, 32, 32, image_shape[2]))\n",
    "y = tf.placeholder(tf.int32, (None))\n",
    "keep_prob = tf.placeholder(tf.float32)\n",
    "\n",
    "one_hot_y = tf.one_hot(y, n_classes)\n",
    "\n",
    "# Training Pipeline\n",
    "rate = 0.001/1.4\n",
    "\n",
    "logits = LeNet(x)\n",
    "cross_entropy = tf.nn.softmax_cross_entropy_with_logits(labels=one_hot_y, logits=logits)\n",
    "loss_operation = tf.reduce_mean(cross_entropy)\n",
    "optimizer = tf.train.AdamOptimizer(learning_rate = rate)\n",
    "training_operation = optimizer.minimize(loss_operation)\n",
    "\n",
    "# Model Evaluation\n",
    "# Evaluate how well the loss and accuracy of the model for a given dataset.\n",
    "correct_prediction = tf.equal(tf.argmax(logits, 1), tf.argmax(one_hot_y, 1))\n",
    "accuracy_operation = tf.reduce_mean(tf.cast(correct_prediction, tf.float32))\n",
    "saver = tf.train.Saver()\n",
    "\n",
    "def evaluate(X_data, y_data):\n",
    "    num_examples = len(X_data)\n",
    "    total_accuracy = 0\n",
    "    sess = tf.get_default_session()\n",
    "    for offset in range(0, num_examples, BATCH_SIZE):\n",
    "        batch_x, batch_y = X_data[offset:offset+BATCH_SIZE], y_data[offset:offset+BATCH_SIZE]\n",
    "        accuracy = sess.run(accuracy_operation, feed_dict={x: batch_x, y: batch_y, keep_prob: 1.})\n",
    "        total_accuracy += (accuracy * len(batch_x))\n",
    "    return total_accuracy / num_examples\n",
    "\n",
    "# ## Train the Model\n",
    "# Run the training data through the training pipeline to train the model.\n",
    "# \n",
    "# Before each epoch, shuffle the training set.\n",
    "# \n",
    "# After each epoch, measure the loss and accuracy of the validation set.\n",
    "with tf.Session() as sess:\n",
    "    sess.run(tf.global_variables_initializer())\n",
    "    num_examples = len(X_train)\n",
    "    \n",
    "    print(\"Training...\")\n",
    "    print()\n",
    "    for i in range(EPOCHS):\n",
    "        X_train, y_train = shuffle(X_train, y_train)\n",
    "        for offset in range(0, num_examples, BATCH_SIZE):\n",
    "            end = offset + BATCH_SIZE\n",
    "            batch_x, batch_y = X_train[offset:end], y_train[offset:end]\n",
    "            sess.run(training_operation, feed_dict={x: batch_x, y: batch_y, keep_prob: 0.85})\n",
    "            \n",
    "        training_accuracy = evaluate(X_train, y_train)\n",
    "        validation_accuracy = evaluate(X_valid, y_valid)\n",
    "        print(\"EPOCH {}: Accuracy. Training: {:.3f}, Validation: {:.3f}\".format(i+1, \n",
    "                                                                                training_accuracy, validation_accuracy))\n",
    "        \n",
    "    saver.save(sess, './lenet')\n",
    "    print(\"Model saved\")\n",
    "\n",
    "# ## Evaluate the Model\n",
    "# Once you are completely satisfied with your model, evaluate the performance of the model on the test set.\n",
    "# \n",
    "# Be sure to only do this once!\n",
    "# \n",
    "# If you were to measure the performance of your trained model on the test set, then improve your model, and then measure the performance of your model on the test set again, that would invalidate your test results. You wouldn't get a true measure of how well your model would perform against real data.\n",
    "# \n",
    "# You do not need to modify this section.\n",
    "with tf.Session() as sess:\n",
    "    saver.restore(sess, tf.train.latest_checkpoint('.'))\n",
    "\n",
    "    test_accuracy = evaluate(X_test, y_test)\n",
    "    print(\"Test Accuracy = {:.3f}\".format(test_accuracy))"
   ]
  },
  {
   "cell_type": "markdown",
   "metadata": {},
   "source": [
    "Go to <a href=#bookmark>my bookmark</a>"
   ]
  },
  {
   "cell_type": "markdown",
   "metadata": {},
   "source": [
    "---\n",
    "\n",
    "## Step 3: Test a Model on New Images\n",
    "\n",
    "To give yourself more insight into how your model is working, download at least five pictures of German traffic signs from the web and use your model to predict the traffic sign type.\n",
    "\n",
    "You may find `signnames.csv` useful as it contains mappings from the class id (integer) to the actual sign name."
   ]
  },
  {
   "cell_type": "markdown",
   "metadata": {},
   "source": [
    "### Load and Output the Images"
   ]
  },
  {
   "cell_type": "code",
   "execution_count": 230,
   "metadata": {
    "scrolled": true
   },
   "outputs": [
    {
     "name": "stdout",
     "output_type": "stream",
     "text": [
      "sign images: ['traffic_signs/17_no_entry.jpg', 'traffic_signs/12_priority_road.jpg', 'traffic_signs/14_stop.jpg', 'traffic_signs/13_yield.jpg', 'traffic_signs/01_speed_limit_30.jpg', 'traffic_signs/38_keep_right.jpg']\n",
      "Image shape = (156, 161, 3)\n",
      "Image shape = (158, 170, 3)\n",
      "Image shape = (195, 178, 3)\n",
      "Image shape = (169, 180, 3)\n",
      "Image shape = (81, 89, 3)\n",
      "Image shape = (162, 166, 3)\n",
      "Image data shape = (6, 32, 32, 3)\n"
     ]
    },
    {
     "data": {
      "image/png": "[encoded data removed]",
      "text/plain": [
       "<matplotlib.figure.Figure at 0x7f911dac17b8>"
      ]
     },
     "metadata": {},
     "output_type": "display_data"
    }
   ],
   "source": [
    "import os\n",
    "#import cv2\n",
    "\n",
    "### Load the images and plot them here.\n",
    "### Feel free to use as many code cells as needed.\n",
    "dir_traffic_signs = \"traffic_signs/\"\n",
    "sign_images = [os.path.join(dir_traffic_signs, f) for f in os.listdir(dir_traffic_signs)]\n",
    "print (\"sign images: {}\".format(sign_images))\n",
    "\n",
    "#img = cv2.cvtColor(cv2.imread(f), cv2.COLOR_BGR2RGB)\n",
    "#print(\"Image shape = {}\".format(img.shape))\n",
    "\n",
    "sign_imgs = []\n",
    "for f in sign_images:\n",
    "    img = cv2.cvtColor(cv2.imread(f), cv2.COLOR_BGR2RGB)\n",
    "    print(\"Image shape = {}\".format(img.shape))\n",
    "    resized_image = cv2.resize(img, (32, 32))\n",
    "    sign_imgs.append(resized_image)\n",
    "\n",
    "sign_imgs = np.array(sign_imgs)\n",
    "print(\"Image data shape = {}\".format(sign_imgs.shape))\n",
    "\n",
    "sign_labels = [17, 12, 14, 13, 1, 38]\n",
    "             \n",
    "fig, axarray = plt.subplots(1, len(sign_imgs))\n",
    "for i, ax in enumerate(axarray.ravel()):\n",
    "    ax.imshow(sign_imgs[i])\n",
    "    ax.set_title('{}'.format(sign_labels[i]))\n",
    "    plt.setp(ax.get_xticklabels(), visible=False)\n",
    "    plt.setp(ax.get_yticklabels(), visible=False)\n",
    "    ax.set_xticks([]), ax.set_yticks([])"
   ]
  },
  {
   "cell_type": "markdown",
   "metadata": {},
   "source": [
    "Go to <a href=#bookmark>my bookmark</a>"
   ]
  },
  {
   "cell_type": "markdown",
   "metadata": {},
   "source": [
    "### Predict the Sign Type for Each Image"
   ]
  },
  {
   "cell_type": "code",
   "execution_count": 231,
   "metadata": {
    "scrolled": false
   },
   "outputs": [
    {
     "name": "stdout",
     "output_type": "stream",
     "text": [
      "Image data shape(before grayscaling) = (6, 32, 32, 3)\n",
      "Image data shape(after grayscaling) = (6, 32, 32, 1)\n",
      "Image data shape(after normalization) = (6, 32, 32, 1)\n",
      "\n",
      "\n",
      "Image 0 - Actual = 17, Predicted = 17\n",
      "Image 1 - Actual = 12, Predicted = 40\n",
      "Image 2 - Actual = 14, Predicted = 14\n",
      "Image 3 - Actual = 13, Predicted = 13\n",
      "Image 4 - Actual = 01, Predicted = 02\n",
      "Image 5 - Actual = 38, Predicted = 38\n",
      "> Model accuracy: 0.67\n"
     ]
    }
   ],
   "source": [
    "### Run the predictions here and use the model to output the prediction for each image.\n",
    "### Make sure to pre-process the images with the same pre-processing pipeline used earlier.\n",
    "### Feel free to use as many code cells as needed.\n",
    "sign_imgs = preprocess_images(sign_imgs, do_rgb2gray=True)\n",
    "#visualize_images(sign_imgs, sign_labels, color_map='gray')\n",
    "\n",
    "with tf.Session() as sess:\n",
    "    saver.restore(sess, tf.train.latest_checkpoint('.'))\n",
    "    \n",
    "    # predict on unseen images\n",
    "    prediction = np.argmax(np.array(sess.run(logits, feed_dict={x: sign_imgs, keep_prob: 1.0})), axis=1)\n",
    "\n",
    "\n",
    "print(\"\\n\")\n",
    "for i, pred in enumerate(prediction):\n",
    "    print('Image {} - Actual = {:02d}, Predicted = {:02d}'.format(i, sign_labels[i], pred))\n",
    "    \n",
    "print('> Model accuracy: {:.02f}'.format(np.sum(sign_labels==prediction)/len(sign_labels)))"
   ]
  },
  {
   "cell_type": "markdown",
   "metadata": {},
   "source": [
    "--> RA-bookmark <a name='bookmark' />"
   ]
  },
  {
   "cell_type": "markdown",
   "metadata": {},
   "source": [
    "### Analyze Performance"
   ]
  },
  {
   "cell_type": "code",
   "execution_count": 4,
   "metadata": {
    "collapsed": true
   },
   "outputs": [],
   "source": [
    "### Calculate the accuracy for these 5 new images. \n",
    "### For example, if the model predicted 1 out of 5 signs correctly, it's 20% accurate on these new images."
   ]
  },
  {
   "cell_type": "markdown",
   "metadata": {},
   "source": [
    "### Output Top 5 Softmax Probabilities For Each Image Found on the Web"
   ]
  },
  {
   "cell_type": "markdown",
   "metadata": {},
   "source": [
    "For each of the new images, print out the model's softmax probabilities to show the **certainty** of the model's predictions (limit the output to the top 5 probabilities for each image). [`tf.nn.top_k`](https://www.tensorflow.org/versions/r0.12/api_docs/python/nn.html#top_k) could prove helpful here. \n",
    "\n",
    "The example below demonstrates how tf.nn.top_k can be used to find the top k predictions for each image.\n",
    "\n",
    "`tf.nn.top_k` will return the values and indices (class ids) of the top k predictions. So if k=3, for each sign, it'll return the 3 largest probabilities (out of a possible 43) and the correspoding class ids.\n",
    "\n",
    "Take this numpy array as an example. The values in the array represent predictions. The array contains softmax probabilities for five candidate images with six possible classes. `tf.nn.top_k` is used to choose the three classes with the highest probability:\n",
    "\n",
    "```\n",
    "# (5, 6) array\n",
    "a = np.array([[ 0.24879643,  0.07032244,  0.12641572,  0.34763842,  0.07893497,\n",
    "         0.12789202],\n",
    "       [ 0.28086119,  0.27569815,  0.08594638,  0.0178669 ,  0.18063401,\n",
    "         0.15899337],\n",
    "       [ 0.26076848,  0.23664738,  0.08020603,  0.07001922,  0.1134371 ,\n",
    "         0.23892179],\n",
    "       [ 0.11943333,  0.29198961,  0.02605103,  0.26234032,  0.1351348 ,\n",
    "         0.16505091],\n",
    "       [ 0.09561176,  0.34396535,  0.0643941 ,  0.16240774,  0.24206137,\n",
    "         0.09155967]])\n",
    "```\n",
    "\n",
    "Running it through `sess.run(tf.nn.top_k(tf.constant(a), k=3))` produces:\n",
    "\n",
    "```\n",
    "TopKV2(values=array([[ 0.34763842,  0.24879643,  0.12789202],\n",
    "       [ 0.28086119,  0.27569815,  0.18063401],\n",
    "       [ 0.26076848,  0.23892179,  0.23664738],\n",
    "       [ 0.29198961,  0.26234032,  0.16505091],\n",
    "       [ 0.34396535,  0.24206137,  0.16240774]]), indices=array([[3, 0, 5],\n",
    "       [0, 1, 4],\n",
    "       [0, 5, 1],\n",
    "       [1, 3, 5],\n",
    "       [1, 4, 3]], dtype=int32))\n",
    "```\n",
    "\n",
    "Looking just at the first row we get `[ 0.34763842,  0.24879643,  0.12789202]`, you can confirm these are the 3 largest probabilities in `a`. You'll also notice `[3, 0, 5]` are the corresponding indices."
   ]
  },
  {
   "cell_type": "code",
   "execution_count": 3,
   "metadata": {
    "collapsed": true
   },
   "outputs": [],
   "source": [
    "### Print out the top five softmax probabilities for the predictions on the German traffic sign images found on the web. \n",
    "### Feel free to use as many code cells as needed."
   ]
  },
  {
   "cell_type": "markdown",
   "metadata": {},
   "source": [
    "### Project Writeup\n",
    "\n",
    "Once you have completed the code implementation, document your results in a project writeup using this [template](https://github.com/udacity/CarND-Traffic-Sign-Classifier-Project/blob/master/writeup_template.md) as a guide. The writeup can be in a markdown or pdf file. "
   ]
  },
  {
   "cell_type": "markdown",
   "metadata": {},
   "source": [
    "> **Note**: Once you have completed all of the code implementations and successfully answered each question above, you may finalize your work by exporting the iPython Notebook as an HTML document. You can do this by using the menu above and navigating to  \\n\",\n",
    "    \"**File -> Download as -> HTML (.html)**. Include the finished document along with this notebook as your submission."
   ]
  },
  {
   "cell_type": "markdown",
   "metadata": {},
   "source": [
    "---\n",
    "\n",
    "## Step 4 (Optional): Visualize the Neural Network's State with Test Images\n",
    "\n",
    " This Section is not required to complete but acts as an additional excersise for understaning the output of a neural network's weights. While neural networks can be a great learning device they are often referred to as a black box. We can understand what the weights of a neural network look like better by plotting their feature maps. After successfully training your neural network you can see what it's feature maps look like by plotting the output of the network's weight layers in response to a test stimuli image. From these plotted feature maps, it's possible to see what characteristics of an image the network finds interesting. For a sign, maybe the inner network feature maps react with high activation to the sign's boundary outline or to the contrast in the sign's painted symbol.\n",
    "\n",
    " Provided for you below is the function code that allows you to get the visualization output of any tensorflow weight layer you want. The inputs to the function should be a stimuli image, one used during training or a new one you provided, and then the tensorflow variable name that represents the layer's state during the training process, for instance if you wanted to see what the [LeNet lab's](https://classroom.udacity.com/nanodegrees/nd013/parts/fbf77062-5703-404e-b60c-95b78b2f3f9e/modules/6df7ae49-c61c-4bb2-a23e-6527e69209ec/lessons/601ae704-1035-4287-8b11-e2c2716217ad/concepts/d4aca031-508f-4e0b-b493-e7b706120f81) feature maps looked like for it's second convolutional layer you could enter conv2 as the tf_activation variable.\n",
    "\n",
    "For an example of what feature map outputs look like, check out NVIDIA's results in their paper [End-to-End Deep Learning for Self-Driving Cars](https://devblogs.nvidia.com/parallelforall/deep-learning-self-driving-cars/) in the section Visualization of internal CNN State. NVIDIA was able to show that their network's inner weights had high activations to road boundary lines by comparing feature maps from an image with a clear path to one without. Try experimenting with a similar test to show that your trained network's weights are looking for interesting features, whether it's looking at differences in feature maps from images with or without a sign, or even what feature maps look like in a trained network vs a completely untrained one on the same sign image.\n",
    "\n",
    "<figure>\n",
    " <img src=\"visualize_cnn.png\" width=\"380\" alt=\"Combined Image\" />\n",
    " <figcaption>\n",
    " <p></p> \n",
    " <p style=\"text-align: center;\"> Your output should look something like this (above)</p> \n",
    " </figcaption>\n",
    "</figure>\n",
    " <p></p> \n"
   ]
  },
  {
   "cell_type": "code",
   "execution_count": null,
   "metadata": {
    "collapsed": true
   },
   "outputs": [],
   "source": [
    "### Visualize your network's feature maps here.\n",
    "### Feel free to use as many code cells as needed.\n",
    "\n",
    "# image_input: the test image being fed into the network to produce the feature maps\n",
    "# tf_activation: should be a tf variable name used during your training procedure that represents the calculated state of a specific weight layer\n",
    "# activation_min/max: can be used to view the activation contrast in more detail, by default matplot sets min and max to the actual min and max values of the output\n",
    "# plt_num: used to plot out multiple different weight feature map sets on the same block, just extend the plt number for each new feature map entry\n",
    "\n",
    "def outputFeatureMap(image_input, tf_activation, activation_min=-1, activation_max=-1 ,plt_num=1):\n",
    "    # Here make sure to preprocess your image_input in a way your network expects\n",
    "    # with size, normalization, ect if needed\n",
    "    # image_input =\n",
    "    # Note: x should be the same name as your network's tensorflow data placeholder variable\n",
    "    # If you get an error tf_activation is not defined it may be having trouble accessing the variable from inside a function\n",
    "    activation = tf_activation.eval(session=sess,feed_dict={x : image_input})\n",
    "    featuremaps = activation.shape[3]\n",
    "    plt.figure(plt_num, figsize=(15,15))\n",
    "    for featuremap in range(featuremaps):\n",
    "        plt.subplot(6,8, featuremap+1) # sets the number of feature maps to show on each row and column\n",
    "        plt.title('FeatureMap ' + str(featuremap)) # displays the feature map number\n",
    "        if activation_min != -1 & activation_max != -1:\n",
    "            plt.imshow(activation[0,:,:, featuremap], interpolation=\"nearest\", vmin =activation_min, vmax=activation_max, cmap=\"gray\")\n",
    "        elif activation_max != -1:\n",
    "            plt.imshow(activation[0,:,:, featuremap], interpolation=\"nearest\", vmax=activation_max, cmap=\"gray\")\n",
    "        elif activation_min !=-1:\n",
    "            plt.imshow(activation[0,:,:, featuremap], interpolation=\"nearest\", vmin=activation_min, cmap=\"gray\")\n",
    "        else:\n",
    "            plt.imshow(activation[0,:,:, featuremap], interpolation=\"nearest\", cmap=\"gray\")"
   ]
  }
 ],
 "metadata": {
  "anaconda-cloud": {},
  "kernelspec": {
   "display_name": "Python 3",
   "language": "python",
   "name": "python3"
  },
  "language_info": {
   "codemirror_mode": {
    "name": "ipython",
    "version": 3
   },
   "file_extension": ".py",
   "mimetype": "text/x-python",
   "name": "python",
   "nbconvert_exporter": "python",
   "pygments_lexer": "ipython3",
   "version": "3.5.2"
  },
  "widgets": {
   "state": {},
   "version": "1.1.2"
  }
 },
 "nbformat": 4,
 "nbformat_minor": 1
}
