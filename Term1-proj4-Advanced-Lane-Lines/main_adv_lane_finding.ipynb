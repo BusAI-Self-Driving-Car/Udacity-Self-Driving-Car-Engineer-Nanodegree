{
 "cells": [
  {
   "cell_type": "markdown",
   "metadata": {},
   "source": [
    "### ToDo\n",
    "\n",
    "* ..."
   ]
  },
  {
   "cell_type": "code",
   "execution_count": 7,
   "metadata": {},
   "outputs": [
    {
     "data": {
      "application/javascript": [
       "\n",
       "Jupyter.keyboard_manager.command_shortcuts.add_shortcut('r', {\n",
       "    help : 'run all cells',\n",
       "    help_index : 'zz',\n",
       "    handler : function (event) {\n",
       "        IPython.notebook.execute_all_cells();\n",
       "        return false;\n",
       "    }}\n",
       ");"
      ],
      "text/plain": [
       "<IPython.core.display.Javascript object>"
      ]
     },
     "metadata": {},
     "output_type": "display_data"
    }
   ],
   "source": [
    "%%javascript\n",
    "// keyboard shortcut for running all cells: Ctrl-m + r\n",
    "Jupyter.keyboard_manager.command_shortcuts.add_shortcut('r', {\n",
    "    help : 'run all cells',\n",
    "    help_index : 'zz',\n",
    "    handler : function (event) {\n",
    "        IPython.notebook.execute_all_cells();\n",
    "        return false;\n",
    "    }}\n",
    ");"
   ]
  },
  {
   "cell_type": "code",
   "execution_count": 8,
   "metadata": {},
   "outputs": [],
   "source": [
    "import cv2\n",
    "import numpy as np\n",
    "import matplotlib.pyplot as plt\n",
    "%matplotlib inline\n",
    "\n",
    "from camera_calibration import calibrate_camera, undistort_image\n",
    "from image_binarization import binarize_frame\n",
    "from perspective_transformation import get_perspective_transform, warp_image_to_top_down_view\n",
    "from lane_lines import Line, detect_lane_lines, track_lane_lines, \n",
    "                    project_lane_lines_to_road, write_curvature_text_to_image\n",
    "\n",
    "def initialize():\n",
    "    # Calibrate camera\n",
    "    mtx, dist = calibrate_camera(use_calib_cache=True)\n",
    "    \n",
    "    # Perspective transform\n",
    "    test_image = cv2.cvtColor(cv2.imread('./test_images/straight_lines1.jpg'), cv2.COLOR_BGR2RGB)\n",
    "\n",
    "    img_undistorted = undistort_image(test_image, mtx, dist, plot_images=False)\n",
    "    \n",
    "    img_size = (test_image.shape[1], test_image.shape[0])\n",
    "    perspective_M, perspective_M_inv = get_perspective_transform(img_size)\n",
    "    \n",
    "    return mtx, dist, perspective_M, perspective_M_inv"
   ]
  },
  {
   "cell_type": "code",
   "execution_count": 9,
   "metadata": {},
   "outputs": [],
   "source": [
    "def test_binarize_frame():\n",
    "    mtx, dist, perspective_M, perspective_M_inv = initialize()\n",
    "\n",
    "    # Read in an image\n",
    "    image = cv2.cvtColor(cv2.imread('./test_images/straight_lines2.jpg'), cv2.COLOR_BGR2RGB)\n",
    "    img_undistorted = undistort_image(image, mtx, dist, plot_images=False)\n",
    "    img_binary = binarize_frame(img_undistorted)\n",
    "    \n",
    "    img_size = (image.shape[1], image.shape[0])\n",
    "    top_down_binary = warp_image_to_top_down_view(img_binary.astype(np.uint8), \n",
    "                                   img_size, perspective_M).astype(bool)\n",
    "\n",
    "    # Plot the result\n",
    "    f, (ax1, ax2) = plt.subplots(1, 2, figsize=(24, 9))\n",
    "    f.tight_layout()\n",
    "    ax1.imshow(image)\n",
    "    ax1.set_title('Original Image', fontsize=50)\n",
    "    ax2.imshow(top_down_binary, cmap='gray')\n",
    "    ax2.set_title('Undistorted and Warped Image', fontsize=50)\n",
    "    plt.subplots_adjust(left=0., right=1, top=0.9, bottom=0.)\n",
    "    \n",
    "\n",
    "# test_binarize_frame()"
   ]
  },
  {
   "cell_type": "code",
   "execution_count": 10,
   "metadata": {
    "scrolled": true
   },
   "outputs": [],
   "source": [
    "from lane_lines import Line\n",
    "\n",
    "def test_detect_lane_lines():\n",
    "    mtx, dist, perspective_M, perspective_M_inv = initialize()    \n",
    "    line_left = Line()\n",
    "    line_right = Line()\n",
    "\n",
    "    # Read in an image\n",
    "    image = cv2.cvtColor(cv2.imread('./test_images/straight_lines2.jpg'), cv2.COLOR_BGR2RGB)\n",
    "    img_undistorted = undistort_image(image, mtx, dist, plot_images=False)\n",
    "    img_binary = binarize_frame(img_undistorted)\n",
    "    \n",
    "    img_size = (image.shape[1], image.shape[0])\n",
    "    top_down_binary = warp_image_to_top_down_view(img_binary.astype(np.uint8), \n",
    "                                   img_size, perspective_M).astype(bool)\n",
    "    \n",
    "    print(\"top_down_binary.shape = {}\".format(top_down_binary.shape))\n",
    "    out_image = detect_lane_lines(top_down_binary, line_left, line_right, plot_image=True)\n",
    "\n",
    "    print(\"left_fit: {}\".format(line_left.get_line_polyfit()))\n",
    "    print(\"right_fit: {}\".format(line_right.get_line_polyfit()))\n",
    "    \n",
    "# test_detect_lane_lines()"
   ]
  },
  {
   "cell_type": "code",
   "execution_count": 11,
   "metadata": {},
   "outputs": [],
   "source": [
    "# Reset global\n",
    "num_frames_processed = 0"
   ]
  },
  {
   "cell_type": "code",
   "execution_count": 12,
   "metadata": {},
   "outputs": [
    {
     "name": "stdout",
     "output_type": "stream",
     "text": [
      "\n",
      "Using already available cached calibration results.\n",
      "\n",
      "num_frames_processed: 0\n",
      "num_frames_processed: 1\n",
      "curvature left, right = 812.3133283031389 m, 5091.785814906429 m\n",
      "[MoviePy] >>>> Building video out_project_video.mp4\n",
      "[MoviePy] Writing video out_project_video.mp4\n"
     ]
    },
    {
     "name": "stderr",
     "output_type": "stream",
     "text": [
      "\r",
      "  0%|          | 0/51 [00:00<?, ?it/s]"
     ]
    },
    {
     "name": "stdout",
     "output_type": "stream",
     "text": [
      "num_frames_processed: 1\n",
      "num_frames_processed: 2\n"
     ]
    },
    {
     "name": "stderr",
     "output_type": "stream",
     "text": [
      "\r",
      "  2%|▏         | 1/51 [00:00<00:11,  4.36it/s]"
     ]
    },
    {
     "name": "stdout",
     "output_type": "stream",
     "text": [
      "curvature left, right = 838.0244244074295 m, 4102.058090244248 m\n"
     ]
    },
    {
     "name": "stderr",
     "output_type": "stream",
     "text": [
      "\r",
      "  4%|▍         | 2/51 [00:00<00:11,  4.27it/s]"
     ]
    },
    {
     "name": "stdout",
     "output_type": "stream",
     "text": [
      "num_frames_processed: 2\n",
      "num_frames_processed: 3\n",
      "curvature left, right = 829.9462804918977 m, 754.3070807845448 m\n",
      "num_frames_processed: 3\n"
     ]
    },
    {
     "name": "stderr",
     "output_type": "stream",
     "text": [
      "\r",
      "  6%|▌         | 3/51 [00:00<00:10,  4.48it/s]"
     ]
    },
    {
     "name": "stdout",
     "output_type": "stream",
     "text": [
      "num_frames_processed: 4\n",
      "curvature left, right = 804.6646907584179 m, 1437.1123329350137 m\n",
      "num_frames_processed: 4\n",
      "num_frames_processed: 5\n"
     ]
    },
    {
     "name": "stderr",
     "output_type": "stream",
     "text": [
      "\r",
      "  8%|▊         | 4/51 [00:00<00:10,  4.66it/s]"
     ]
    },
    {
     "name": "stdout",
     "output_type": "stream",
     "text": [
      "curvature left, right = 768.0820603642679 m, 1088.113416337428 m\n",
      "num_frames_processed: 5\n"
     ]
    },
    {
     "name": "stderr",
     "output_type": "stream",
     "text": [
      "\r",
      " 10%|▉         | 5/51 [00:01<00:10,  4.59it/s]"
     ]
    },
    {
     "name": "stdout",
     "output_type": "stream",
     "text": [
      "num_frames_processed: 6\n",
      "curvature left, right = 775.4983625973221 m, 858.3232639427558 m\n",
      "num_frames_processed: 6\n",
      "num_frames_processed: 7\n"
     ]
    },
    {
     "name": "stderr",
     "output_type": "stream",
     "text": [
      " 14%|█▎        | 7/51 [00:01<00:09,  4.86it/s]"
     ]
    },
    {
     "name": "stdout",
     "output_type": "stream",
     "text": [
      "curvature left, right = 902.1842996882568 m, 636.7375379561041 m\n",
      "num_frames_processed: 7\n",
      "num_frames_processed: 8\n",
      "curvature left, right = 937.7425515206502 m, 702.5398300606186 m\n"
     ]
    },
    {
     "name": "stderr",
     "output_type": "stream",
     "text": [
      "\r",
      " 16%|█▌        | 8/51 [00:01<00:08,  4.85it/s]"
     ]
    },
    {
     "name": "stdout",
     "output_type": "stream",
     "text": [
      "num_frames_processed: 8\n",
      "num_frames_processed: 9\n",
      "curvature left, right = 850.7856768047097 m, 1149.0216673206692 m\n",
      "num_frames_processed: 9\n"
     ]
    },
    {
     "name": "stderr",
     "output_type": "stream",
     "text": [
      "\r",
      " 18%|█▊        | 9/51 [00:01<00:08,  4.94it/s]"
     ]
    },
    {
     "name": "stdout",
     "output_type": "stream",
     "text": [
      "num_frames_processed: 10\n",
      "curvature left, right = 828.6530149291052 m, 1310.4859989308052 m\n",
      "num_frames_processed: 10\n",
      "num_frames_processed: 11\n"
     ]
    },
    {
     "name": "stderr",
     "output_type": "stream",
     "text": [
      " 22%|██▏       | 11/51 [00:02<00:07,  5.05it/s]"
     ]
    },
    {
     "name": "stdout",
     "output_type": "stream",
     "text": [
      "curvature left, right = 824.6778342342822 m, 4405.823891690598 m\n",
      "num_frames_processed: 11\n",
      "num_frames_processed: 12\n",
      "curvature left, right = 826.8260014920943 m, 5749.93821358493 m\n"
     ]
    },
    {
     "name": "stderr",
     "output_type": "stream",
     "text": [
      "\r",
      " 24%|██▎       | 12/51 [00:02<00:07,  5.08it/s]"
     ]
    },
    {
     "name": "stdout",
     "output_type": "stream",
     "text": [
      "num_frames_processed: 12\n",
      "num_frames_processed: 13\n",
      "curvature left, right = 918.7027884071163 m, 3725.243700309028 m\n"
     ]
    },
    {
     "name": "stderr",
     "output_type": "stream",
     "text": [
      "\r",
      " 25%|██▌       | 13/51 [00:02<00:07,  4.92it/s]"
     ]
    },
    {
     "name": "stdout",
     "output_type": "stream",
     "text": [
      "num_frames_processed: 13\n",
      "num_frames_processed: 14\n",
      "curvature left, right = 989.8989874620926 m, 991.5681405395552 m\n"
     ]
    },
    {
     "name": "stderr",
     "output_type": "stream",
     "text": [
      "\r",
      " 27%|██▋       | 14/51 [00:02<00:07,  4.76it/s]"
     ]
    },
    {
     "name": "stdout",
     "output_type": "stream",
     "text": [
      "num_frames_processed: 14\n",
      "num_frames_processed: 15\n",
      "curvature left, right = 1019.940639320644 m, 5139.492773923831 m\n",
      "num_frames_processed: 15\n"
     ]
    },
    {
     "name": "stderr",
     "output_type": "stream",
     "text": [
      "\r",
      " 29%|██▉       | 15/51 [00:03<00:07,  4.80it/s]"
     ]
    },
    {
     "name": "stdout",
     "output_type": "stream",
     "text": [
      "num_frames_processed: 16\n",
      "curvature left, right = 1117.3062623847052 m, 2301.765155262567 m\n",
      "num_frames_processed: 16\n"
     ]
    },
    {
     "name": "stderr",
     "output_type": "stream",
     "text": [
      "\r",
      " 31%|███▏      | 16/51 [00:03<00:07,  4.81it/s]"
     ]
    },
    {
     "name": "stdout",
     "output_type": "stream",
     "text": [
      "num_frames_processed: 17\n",
      "curvature left, right = 1211.3979841234643 m, 2274.474734544735 m\n"
     ]
    },
    {
     "name": "stderr",
     "output_type": "stream",
     "text": [
      "\r",
      " 33%|███▎      | 17/51 [00:03<00:07,  4.73it/s]"
     ]
    },
    {
     "name": "stdout",
     "output_type": "stream",
     "text": [
      "num_frames_processed: 17\n",
      "num_frames_processed: 18\n",
      "curvature left, right = 1230.9491859053776 m, 1027.2695673806127 m\n",
      "num_frames_processed: 18\n"
     ]
    },
    {
     "name": "stderr",
     "output_type": "stream",
     "text": [
      "\r",
      " 35%|███▌      | 18/51 [00:03<00:06,  4.82it/s]"
     ]
    },
    {
     "name": "stdout",
     "output_type": "stream",
     "text": [
      "num_frames_processed: 19\n",
      "curvature left, right = 1717.3407770891556 m, 800.5321958391622 m\n",
      "num_frames_processed: 19\n"
     ]
    },
    {
     "name": "stderr",
     "output_type": "stream",
     "text": [
      "\r",
      " 37%|███▋      | 19/51 [00:03<00:06,  4.79it/s]"
     ]
    },
    {
     "name": "stdout",
     "output_type": "stream",
     "text": [
      "num_frames_processed: 20\n",
      "curvature left, right = 2185.926978615839 m, 885.296412688499 m\n",
      "num_frames_processed: 20\n"
     ]
    },
    {
     "name": "stderr",
     "output_type": "stream",
     "text": [
      "\r",
      " 39%|███▉      | 20/51 [00:04<00:06,  4.88it/s]"
     ]
    },
    {
     "name": "stdout",
     "output_type": "stream",
     "text": [
      "num_frames_processed: 21\n",
      "curvature left, right = 2112.5602449769744 m, 908.1617896919472 m\n",
      "num_frames_processed: 21\n",
      "num_frames_processed: 22\n"
     ]
    },
    {
     "name": "stderr",
     "output_type": "stream",
     "text": [
      "\r",
      " 41%|████      | 21/51 [00:04<00:06,  4.93it/s]"
     ]
    },
    {
     "name": "stdout",
     "output_type": "stream",
     "text": [
      "curvature left, right = 2866.0365170290715 m, 755.7630472533299 m\n",
      "num_frames_processed: 22\n",
      "num_frames_processed: 23\n",
      "curvature left, right = 2094.738177535998 m, 964.425236145541 m\n"
     ]
    },
    {
     "name": "stderr",
     "output_type": "stream",
     "text": [
      " 45%|████▌     | 23/51 [00:04<00:05,  4.97it/s]"
     ]
    },
    {
     "name": "stdout",
     "output_type": "stream",
     "text": [
      "num_frames_processed: 23\n",
      "num_frames_processed: 24\n",
      "curvature left, right = 2098.3758978464043 m, 1178.552441400172 m\n",
      "num_frames_processed: 24\n"
     ]
    },
    {
     "name": "stderr",
     "output_type": "stream",
     "text": [
      "\r",
      " 47%|████▋     | 24/51 [00:04<00:05,  4.99it/s]"
     ]
    },
    {
     "name": "stdout",
     "output_type": "stream",
     "text": [
      "num_frames_processed: 25\n",
      "curvature left, right = 1604.0637621265173 m, 4731.065756445642 m\n",
      "num_frames_processed: 25\n",
      "num_frames_processed: 26\n"
     ]
    },
    {
     "name": "stderr",
     "output_type": "stream",
     "text": [
      " 51%|█████     | 26/51 [00:05<00:04,  5.07it/s]"
     ]
    },
    {
     "name": "stdout",
     "output_type": "stream",
     "text": [
      "curvature left, right = 1400.4559028917834 m, 2064.718264222875 m\n",
      "num_frames_processed: 26\n",
      "num_frames_processed: 27\n",
      "curvature left, right = 1550.9333149676909 m, 14255.064268130596 m\n"
     ]
    },
    {
     "name": "stderr",
     "output_type": "stream",
     "text": [
      "\r",
      " 53%|█████▎    | 27/51 [00:05<00:04,  5.05it/s]"
     ]
    },
    {
     "name": "stdout",
     "output_type": "stream",
     "text": [
      "num_frames_processed: 27\n",
      "num_frames_processed: 28\n",
      "curvature left, right = 1274.4497818215943 m, 1054.3061123015984 m\n",
      "num_frames_processed: 28\n"
     ]
    },
    {
     "name": "stderr",
     "output_type": "stream",
     "text": [
      "\r",
      " 55%|█████▍    | 28/51 [00:05<00:04,  5.05it/s]"
     ]
    },
    {
     "name": "stdout",
     "output_type": "stream",
     "text": [
      "num_frames_processed: 29\n",
      "curvature left, right = 1208.356432543105 m, 1411.6150935094536 m\n",
      "num_frames_processed: 29\n",
      "num_frames_processed: 30\n"
     ]
    },
    {
     "name": "stderr",
     "output_type": "stream",
     "text": [
      "\r",
      " 57%|█████▋    | 29/51 [00:05<00:04,  5.05it/s]"
     ]
    },
    {
     "name": "stdout",
     "output_type": "stream",
     "text": [
      "curvature left, right = 1277.065605760359 m, 1174.2154999426357 m\n",
      "num_frames_processed: 30\n",
      "num_frames_processed: 31\n"
     ]
    },
    {
     "name": "stderr",
     "output_type": "stream",
     "text": [
      "\r",
      " 59%|█████▉    | 30/51 [00:06<00:04,  4.98it/s]"
     ]
    },
    {
     "name": "stdout",
     "output_type": "stream",
     "text": [
      "curvature left, right = 1111.8314627330333 m, 1784.3884504191813 m\n",
      "num_frames_processed: 31\n",
      "num_frames_processed: 32\n"
     ]
    },
    {
     "name": "stderr",
     "output_type": "stream",
     "text": [
      " 63%|██████▎   | 32/51 [00:06<00:03,  5.02it/s]"
     ]
    },
    {
     "name": "stdout",
     "output_type": "stream",
     "text": [
      "curvature left, right = 1003.4646259654124 m, 1018.3416473677662 m\n",
      "num_frames_processed: 32\n",
      "num_frames_processed: 33\n",
      "curvature left, right = 1018.1684666930975 m, 675.4657103696094 m\n"
     ]
    },
    {
     "name": "stderr",
     "output_type": "stream",
     "text": [
      "\r",
      " 65%|██████▍   | 33/51 [00:06<00:03,  4.86it/s]"
     ]
    },
    {
     "name": "stdout",
     "output_type": "stream",
     "text": [
      "num_frames_processed: 33\n",
      "num_frames_processed: 34\n",
      "curvature left, right = 1146.950087307634 m, 707.0144196981305 m\n"
     ]
    },
    {
     "name": "stderr",
     "output_type": "stream",
     "text": [
      "\r",
      " 67%|██████▋   | 34/51 [00:06<00:03,  4.92it/s]"
     ]
    },
    {
     "name": "stdout",
     "output_type": "stream",
     "text": [
      "num_frames_processed: 34\n",
      "num_frames_processed: 35\n",
      "curvature left, right = 878.662291339442 m, 912.8354888094574 m\n"
     ]
    },
    {
     "name": "stderr",
     "output_type": "stream",
     "text": [
      "\r",
      " 69%|██████▊   | 35/51 [00:07<00:03,  4.79it/s]"
     ]
    },
    {
     "name": "stdout",
     "output_type": "stream",
     "text": [
      "num_frames_processed: 35\n",
      "num_frames_processed: 36\n",
      "curvature left, right = 854.4336708345079 m, 1304.8782029122867 m\n",
      "num_frames_processed: 36\n"
     ]
    },
    {
     "name": "stderr",
     "output_type": "stream",
     "text": [
      "\r",
      " 71%|███████   | 36/51 [00:07<00:03,  4.92it/s]"
     ]
    },
    {
     "name": "stdout",
     "output_type": "stream",
     "text": [
      "num_frames_processed: 37\n",
      "curvature left, right = 778.529897349267 m, 5596.67379033698 m\n",
      "num_frames_processed: 37\n"
     ]
    },
    {
     "name": "stderr",
     "output_type": "stream",
     "text": [
      "\r",
      " 73%|███████▎  | 37/51 [00:07<00:02,  4.87it/s]"
     ]
    },
    {
     "name": "stdout",
     "output_type": "stream",
     "text": [
      "num_frames_processed: 38\n",
      "curvature left, right = 728.2503984850715 m, 2472.384076256335 m\n",
      "num_frames_processed: 38\n"
     ]
    },
    {
     "name": "stderr",
     "output_type": "stream",
     "text": [
      "\r",
      " 75%|███████▍  | 38/51 [00:07<00:02,  4.88it/s]"
     ]
    },
    {
     "name": "stdout",
     "output_type": "stream",
     "text": [
      "num_frames_processed: 39\n",
      "curvature left, right = 678.2996654591142 m, 1745.681514793726 m\n",
      "num_frames_processed: 39\n",
      "num_frames_processed: 40\n"
     ]
    },
    {
     "name": "stderr",
     "output_type": "stream",
     "text": [
      " 78%|███████▊  | 40/51 [00:08<00:02,  4.91it/s]"
     ]
    },
    {
     "name": "stdout",
     "output_type": "stream",
     "text": [
      "curvature left, right = 645.2126381833781 m, 1035.9000217841099 m\n",
      "num_frames_processed: 40\n",
      "num_frames_processed: 41\n",
      "curvature left, right = 635.4548467208066 m, 1314.6541971370796 m\n"
     ]
    },
    {
     "name": "stderr",
     "output_type": "stream",
     "text": [
      "\r",
      " 80%|████████  | 41/51 [00:08<00:02,  4.94it/s]"
     ]
    },
    {
     "name": "stdout",
     "output_type": "stream",
     "text": [
      "num_frames_processed: 41\n",
      "num_frames_processed: 42\n",
      "curvature left, right = 648.1937492914525 m, 1468.5479584956918 m\n",
      "num_frames_processed: 42\n"
     ]
    },
    {
     "name": "stderr",
     "output_type": "stream",
     "text": [
      "\r",
      " 82%|████████▏ | 42/51 [00:08<00:01,  5.01it/s]"
     ]
    },
    {
     "name": "stdout",
     "output_type": "stream",
     "text": [
      "num_frames_processed: 43\n",
      "curvature left, right = 624.6412783890032 m, 968.6262309450433 m\n",
      "num_frames_processed: 43\n"
     ]
    },
    {
     "name": "stderr",
     "output_type": "stream",
     "text": [
      "\r",
      " 84%|████████▍ | 43/51 [00:08<00:01,  4.98it/s]"
     ]
    },
    {
     "name": "stdout",
     "output_type": "stream",
     "text": [
      "num_frames_processed: 44\n",
      "curvature left, right = 673.7735257349763 m, 647.0767654719788 m\n",
      "num_frames_processed: 44\n"
     ]
    },
    {
     "name": "stderr",
     "output_type": "stream",
     "text": [
      "\r",
      " 86%|████████▋ | 44/51 [00:08<00:01,  4.96it/s]"
     ]
    },
    {
     "name": "stdout",
     "output_type": "stream",
     "text": [
      "num_frames_processed: 45\n",
      "curvature left, right = 674.5445992157609 m, 645.2170577163323 m\n",
      "num_frames_processed: 45\n",
      "num_frames_processed: 46\n"
     ]
    },
    {
     "name": "stderr",
     "output_type": "stream",
     "text": [
      "\r",
      " 88%|████████▊ | 45/51 [00:09<00:01,  5.00it/s]"
     ]
    },
    {
     "name": "stdout",
     "output_type": "stream",
     "text": [
      "curvature left, right = 691.6098269590346 m, 626.3768199194018 m\n",
      "num_frames_processed: 46\n",
      "num_frames_processed: 47\n",
      "curvature left, right = 708.046026656483 m, 597.9693444972737 m\n"
     ]
    },
    {
     "name": "stderr",
     "output_type": "stream",
     "text": [
      " 92%|█████████▏| 47/51 [00:09<00:00,  5.06it/s]"
     ]
    },
    {
     "name": "stdout",
     "output_type": "stream",
     "text": [
      "num_frames_processed: 47\n",
      "num_frames_processed: 48\n",
      "curvature left, right = 774.8688128148916 m, 664.0331383056338 m\n"
     ]
    },
    {
     "name": "stderr",
     "output_type": "stream",
     "text": [
      "\r",
      " 94%|█████████▍| 48/51 [00:09<00:00,  4.80it/s]"
     ]
    },
    {
     "name": "stdout",
     "output_type": "stream",
     "text": [
      "num_frames_processed: 48\n",
      "num_frames_processed: 49\n",
      "curvature left, right = 727.7183109569777 m, 1151.685841853532 m\n"
     ]
    },
    {
     "name": "stderr",
     "output_type": "stream",
     "text": [
      "\r",
      " 96%|█████████▌| 49/51 [00:10<00:00,  4.79it/s]"
     ]
    },
    {
     "name": "stdout",
     "output_type": "stream",
     "text": [
      "num_frames_processed: 49\n",
      "num_frames_processed: 50\n",
      "curvature left, right = 774.36437412648 m, 2297.4866750521123 m\n"
     ]
    },
    {
     "name": "stderr",
     "output_type": "stream",
     "text": [
      "\r",
      " 98%|█████████▊| 50/51 [00:10<00:00,  4.81it/s]"
     ]
    },
    {
     "name": "stdout",
     "output_type": "stream",
     "text": [
      "num_frames_processed: 50\n",
      "num_frames_processed: 51\n",
      "curvature left, right = 806.720723293648 m, 4044.4237749917033 m\n"
     ]
    },
    {
     "name": "stderr",
     "output_type": "stream",
     "text": [
      "\n"
     ]
    },
    {
     "name": "stdout",
     "output_type": "stream",
     "text": [
      "[MoviePy] Done.\n",
      "[MoviePy] >>>> Video ready: out_project_video.mp4 \n",
      "\n"
     ]
    }
   ],
   "source": [
    "### Video\n",
    "from moviepy.editor import VideoFileClip\n",
    "from IPython.display import HTML\n",
    "\n",
    "def process_video_frame(frame):\n",
    "    # NOTE: output should be a color image (3 channel) for processing video below    \n",
    "    global dict_config_params\n",
    "    global num_frames_processed    \n",
    "    global mtx, dist, perspective_M, perspective_M_inv\n",
    "    global left_fit, right_fit, left_fitx, right_fitx\n",
    "    #global line_left, line_right\n",
    "    \n",
    "    frame_undistorted = undistort_image(frame, mtx, dist, plot_images=False)\n",
    "    frame_binary = binarize_frame(frame_undistorted)\n",
    "    \n",
    "    frame_size = (frame_binary.shape[1], frame_binary.shape[0])\n",
    "    top_down_binary = warp_image_to_top_down_view(frame_binary.astype(np.uint8), \n",
    "                                   frame_size, perspective_M).astype(bool)\n",
    "    \n",
    "    #print(\"num_frames_processed: {}\".format(num_frames_processed))\n",
    "    \n",
    "    out_img = None\n",
    "    ploty = None\n",
    "    if num_frames_processed==0:        \n",
    "        out_img = detect_lane_lines(top_down_binary, \n",
    "                                    line_left, line_right, \n",
    "                                    plot_image=False)         \n",
    "    else:        \n",
    "        out_img = track_lane_lines(top_down_binary, \n",
    "                                   line_left, line_right)\n",
    "    \n",
    "    num_frames_processed += 1\n",
    "    #print(\"num_frames_processed: {}\".format(num_frames_processed))\n",
    "        \n",
    "    img_lines_on_road = project_lane_lines_to_road(frame_undistorted, out_img,\n",
    "                                                   line_left, line_right, \n",
    "                                                   perspective_M_inv)\n",
    "    write_curvature_text_to_image(img_lines_on_road, dict_config_params, \n",
    "                                  line_left, line_right)\n",
    "        \n",
    "    return img_lines_on_road\n",
    "    \n",
    "    \n",
    "# Globals\n",
    "# Config parameters\n",
    "dict_config_params = {'x_margin': 100,\n",
    "                     'y_meter_per_pixel': 30.0/720,\n",
    "                     'x_meter_per_pixel': 3.7/700,\n",
    "                     }\n",
    "\n",
    "left_fit, right_fit, left_fitx, right_fitx = None, None, None, None\n",
    "mtx, dist, perspective_M, perspective_M_inv = None, None, None, None\n",
    "line_left = None\n",
    "line_right = None\n",
    "\n",
    "if __name__ == '__main__':    \n",
    "    \n",
    "    mtx, dist, perspective_M, perspective_M_inv = initialize()\n",
    "    line_left = Line()\n",
    "    line_right = Line()\n",
    "    \n",
    "    ## secs. 38--43 are difficult\n",
    "    clip1 = VideoFileClip(\"project_video.mp4\").subclip(0,2)\n",
    "    #clip1 = VideoFileClip(\"project_video.mp4\")\n",
    "    clip = clip1.fl_image(process_video_frame)\n",
    "    clip.write_videofile(\"out_project_video.mp4\", audio=False)\n",
    "\n",
    "    # Reset global\n",
    "    num_frames_processed = 0"
   ]
  }
 ],
 "metadata": {
  "kernelspec": {
   "display_name": "Python 3",
   "language": "python",
   "name": "python3"
  },
  "language_info": {
   "codemirror_mode": {
    "name": "ipython",
    "version": 3
   },
   "file_extension": ".py",
   "mimetype": "text/x-python",
   "name": "python",
   "nbconvert_exporter": "python",
   "pygments_lexer": "ipython3",
   "version": "3.5.2"
  },
  "widgets": {
   "state": {},
   "version": "1.1.2"
  }
 },
 "nbformat": 4,
 "nbformat_minor": 2
}
