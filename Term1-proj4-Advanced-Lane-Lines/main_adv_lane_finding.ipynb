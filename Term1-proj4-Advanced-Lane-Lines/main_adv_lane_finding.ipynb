{
 "cells": [
  {
   "cell_type": "markdown",
   "metadata": {},
   "source": [
    "### ToDo\n",
    "\n",
    "* ..."
   ]
  },
  {
   "cell_type": "code",
   "execution_count": 2,
   "metadata": {},
   "outputs": [
    {
     "data": {
      "application/javascript": [
       "// keyboard shortcut for running all cells: Ctrl-m + r\n",
       "Jupyter.keyboard_manager.command_shortcuts.add_shortcut('r', {\n",
       "    help : 'run all cells',\n",
       "    help_index : 'zz',\n",
       "    handler : function (event) {\n",
       "        IPython.notebook.execute_all_cells();\n",
       "        return false;\n",
       "    }}\n",
       ");"
      ],
      "text/plain": [
       "<IPython.core.display.Javascript object>"
      ]
     },
     "metadata": {},
     "output_type": "display_data"
    }
   ],
   "source": [
    "%%javascript\n",
    "// keyboard shortcut for running all cells: Ctrl-m + r\n",
    "Jupyter.keyboard_manager.command_shortcuts.add_shortcut('r', {\n",
    "    help : 'run all cells',\n",
    "    help_index : 'zz',\n",
    "    handler : function (event) {\n",
    "        IPython.notebook.execute_all_cells();\n",
    "        return false;\n",
    "    }}\n",
    ");"
   ]
  },
  {
   "cell_type": "code",
   "execution_count": 3,
   "metadata": {},
   "outputs": [],
   "source": [
    "import cv2\n",
    "import numpy as np\n",
    "import matplotlib.pyplot as plt\n",
    "%matplotlib inline\n",
    "\n",
    "from camera_calibration import calibrate_camera, undistort_image\n",
    "from image_binarization import binarize_frame\n",
    "from perspective_transformation import get_perspective_transform, warp_image_to_top_down_view\n",
    "from lane_lines import Line, detect_lane_lines, track_lane_lines, project_lane_lines_to_road, write_curvature_text_to_image, write_lane_offset_text_to_image\n",
    "\n",
    "def initialize():\n",
    "    # Calibrate camera\n",
    "    mtx, dist = calibrate_camera(use_calib_cache=True)\n",
    "    \n",
    "    # Perspective transform\n",
    "    test_image = cv2.cvtColor(cv2.imread('./test_images/straight_lines1.jpg'), cv2.COLOR_BGR2RGB)\n",
    "\n",
    "    img_undistorted = undistort_image(test_image, mtx, dist, plot_images=False)\n",
    "    \n",
    "    img_size = (test_image.shape[1], test_image.shape[0])\n",
    "    perspective_M, perspective_M_inv = get_perspective_transform(img_size)\n",
    "    \n",
    "    return mtx, dist, perspective_M, perspective_M_inv"
   ]
  },
  {
   "cell_type": "code",
   "execution_count": 4,
   "metadata": {},
   "outputs": [],
   "source": [
    "def test_binarize_frame():\n",
    "    mtx, dist, perspective_M, perspective_M_inv = initialize()\n",
    "\n",
    "    # Read in an image\n",
    "    image = cv2.cvtColor(cv2.imread('./test_images/straight_lines2.jpg'), cv2.COLOR_BGR2RGB)\n",
    "    img_undistorted = undistort_image(image, mtx, dist, plot_images=False)\n",
    "    img_binary = binarize_frame(img_undistorted)\n",
    "    \n",
    "    img_size = (image.shape[1], image.shape[0])\n",
    "    top_down_binary = warp_image_to_top_down_view(img_binary.astype(np.uint8), \n",
    "                                   img_size, perspective_M).astype(bool)\n",
    "\n",
    "    # Plot the result\n",
    "    f, (ax1, ax2) = plt.subplots(1, 2, figsize=(24, 9))\n",
    "    f.tight_layout()\n",
    "    ax1.imshow(image)\n",
    "    ax1.set_title('Original Image', fontsize=50)\n",
    "    ax2.imshow(top_down_binary, cmap='gray')\n",
    "    ax2.set_title('Undistorted and Warped Image', fontsize=50)\n",
    "    plt.subplots_adjust(left=0., right=1, top=0.9, bottom=0.)\n",
    "    \n",
    "\n",
    "# test_binarize_frame()"
   ]
  },
  {
   "cell_type": "code",
   "execution_count": 5,
   "metadata": {
    "scrolled": true
   },
   "outputs": [
    {
     "name": "stdout",
     "output_type": "stream",
     "text": [
      "\n",
      "Using already available cached calibration results.\n",
      "\n",
      "top_down_binary.shape = (720, 1280)\n",
      "left_fit: [  5.93193079e-06   2.29126109e-02   2.94748692e+02]\n",
      "right_fit: [ -4.70246069e-06  -2.74283879e-02   9.98546569e+02]\n"
     ]
    },
    {
     "data": {
      "image/png": "[encoded data removed]",
      "text/plain": [
       "<matplotlib.figure.Figure at 0x7f9726ace710>"
      ]
     },
     "metadata": {},
     "output_type": "display_data"
    }
   ],
   "source": [
    "from lane_lines import Line\n",
    "\n",
    "def test_detect_lane_lines():\n",
    "    mtx, dist, perspective_M, perspective_M_inv = initialize()    \n",
    "    line_left = Line()\n",
    "    line_right = Line()\n",
    "\n",
    "    # Read in an image\n",
    "    image = cv2.cvtColor(cv2.imread('./test_images/straight_lines2.jpg'), cv2.COLOR_BGR2RGB)\n",
    "    img_undistorted = undistort_image(image, mtx, dist, plot_images=False)\n",
    "    img_binary = binarize_frame(img_undistorted)\n",
    "    \n",
    "    img_size = (image.shape[1], image.shape[0])\n",
    "    top_down_binary = warp_image_to_top_down_view(img_binary.astype(np.uint8), \n",
    "                                   img_size, perspective_M).astype(bool)\n",
    "    \n",
    "    print(\"top_down_binary.shape = {}\".format(top_down_binary.shape))\n",
    "    out_image = detect_lane_lines(top_down_binary, line_left, line_right, plot_image=True)\n",
    "\n",
    "    print(\"left_fit: {}\".format(line_left.get_fit()))\n",
    "    print(\"right_fit: {}\".format(line_right.get_fit()))\n",
    "    \n",
    "test_detect_lane_lines()"
   ]
  },
  {
   "cell_type": "code",
   "execution_count": null,
   "metadata": {},
   "outputs": [],
   "source": [
    "# Reset global\n",
    "num_frames_processed = 0"
   ]
  },
  {
   "cell_type": "code",
   "execution_count": null,
   "metadata": {},
   "outputs": [],
   "source": [
    "### Video\n",
    "from moviepy.editor import VideoFileClip\n",
    "from IPython.display import HTML\n",
    "\n",
    "def process_video_frame(frame):\n",
    "    # NOTE: output should be a color image (3 channel) for processing video below    \n",
    "    global dict_config_params\n",
    "    global num_frames_processed    \n",
    "    global mtx, dist, perspective_M, perspective_M_inv\n",
    "    global left_fit, right_fit, left_fitx, right_fitx\n",
    "    #global line_left, line_right\n",
    "    \n",
    "    frame_undistorted = undistort_image(frame, mtx, dist, plot_images=False)\n",
    "    frame_binary = binarize_frame(frame_undistorted)\n",
    "    \n",
    "    frame_size = (frame_binary.shape[1], frame_binary.shape[0])\n",
    "    top_down_binary = warp_image_to_top_down_view(frame_binary.astype(np.uint8), \n",
    "                                   frame_size, perspective_M).astype(bool)\n",
    "    \n",
    "    #print(\"num_frames_processed: {}\".format(num_frames_processed))\n",
    "    \n",
    "    out_img = None\n",
    "    ploty = None\n",
    "    if num_frames_processed==0:        \n",
    "        out_img = detect_lane_lines(top_down_binary, \n",
    "                                    line_left, line_right, \n",
    "                                    plot_image=False)         \n",
    "    else:        \n",
    "        out_img = track_lane_lines(top_down_binary, \n",
    "                                   line_left, line_right)\n",
    "    \n",
    "    num_frames_processed += 1\n",
    "    #print(\"num_frames_processed: {}\".format(num_frames_processed))\n",
    "        \n",
    "    img_lines_on_road = project_lane_lines_to_road(frame_undistorted, out_img,\n",
    "                                                   line_left, line_right, \n",
    "                                                   perspective_M_inv)\n",
    "    write_curvature_text_to_image(img_lines_on_road, dict_config_params, \n",
    "                                  line_left, line_right)\n",
    "    write_lane_offset_text_to_image(img_lines_on_road, dict_config_params, \n",
    "                                  line_left, line_right)\n",
    "        \n",
    "    return img_lines_on_road\n",
    "    \n",
    "    \n",
    "# Globals\n",
    "# Config parameters\n",
    "dict_config_params = {'x_margin': 100,\n",
    "                     'y_meter_per_pixel': 30.0/720,\n",
    "                     'x_meter_per_pixel': 3.7/700,\n",
    "                     }\n",
    "\n",
    "left_fit, right_fit, left_fitx, right_fitx = None, None, None, None\n",
    "mtx, dist, perspective_M, perspective_M_inv = None, None, None, None\n",
    "line_left = None\n",
    "line_right = None\n",
    "\n",
    "if __name__ == '__main__':    \n",
    "    \n",
    "    mtx, dist, perspective_M, perspective_M_inv = initialize()\n",
    "    line_left = Line()\n",
    "    line_right = Line()\n",
    "    \n",
    "    ## secs. 38--43 are difficult\n",
    "    clip1 = VideoFileClip(\"./videos/project_video.mp4\").subclip(0,2)\n",
    "    #clip1 = VideoFileClip(\"project_video.mp4\")\n",
    "    clip = clip1.fl_image(process_video_frame)\n",
    "    clip.write_videofile(\"out_project_video.mp4\", audio=False)\n",
    "\n",
    "    # Reset global\n",
    "    num_frames_processed = 0"
   ]
  }
 ],
 "metadata": {
  "kernelspec": {
   "display_name": "Python 3",
   "language": "python",
   "name": "python3"
  },
  "language_info": {
   "codemirror_mode": {
    "name": "ipython",
    "version": 3
   },
   "file_extension": ".py",
   "mimetype": "text/x-python",
   "name": "python",
   "nbconvert_exporter": "python",
   "pygments_lexer": "ipython3",
   "version": "3.5.2"
  },
  "widgets": {
   "state": {},
   "version": "1.1.2"
  }
 },
 "nbformat": 4,
 "nbformat_minor": 2
}
